{
 "cells": [
  {
   "cell_type": "code",
   "execution_count": 15,
   "metadata": {},
   "outputs": [],
   "source": [
    "from bs4 import BeautifulSoup\n",
    "import requests"
   ]
  },
  {
   "cell_type": "code",
   "execution_count": 4,
   "metadata": {},
   "outputs": [],
   "source": [
    "# Testing the Youtue API before building scraper \n",
    "# THis is the comment thread url\n",
    "channel_url = 'https://www.googleapis.com/youtube/v3/activities?part=snippet,contentDetails&channelId={Channel_id}&key={API}'\n",
    "vid_url = 'https://www.googleapis.com/youtube/v3/commentThreads?part=snippet&videoId={Video_id}&key={YOUR_API_KEY}'\n",
    "comment_url = 'https://www.googleapis.com/youtube/v3/commentThreads?part=snippet&allThreadsRelatedToChannelId={Channel_id}&key={YOUR_API_KEY}'"
   ]
  },
  {
   "cell_type": "code",
   "execution_count": 8,
   "metadata": {},
   "outputs": [],
   "source": [
    "api_key = 'Your_key'"
   ]
  },
  {
   "cell_type": "code",
   "execution_count": 9,
   "metadata": {},
   "outputs": [],
   "source": [
    "video_id = '2kyS6SvSYSE'"
   ]
  },
  {
   "cell_type": "code",
   "execution_count": 75,
   "metadata": {},
   "outputs": [],
   "source": [
    "channel_title ='CaseyNeistat'"
   ]
  },
  {
   "cell_type": "code",
   "execution_count": 79,
   "metadata": {},
   "outputs": [],
   "source": [
    "res = requests.get(f'https://www.googleapis.com/youtube/v3/commentThreads?part=snippet&videoId={video_id}&key={api_key}')"
   ]
  },
  {
   "cell_type": "code",
   "execution_count": 91,
   "metadata": {},
   "outputs": [
    {
     "data": {
      "text/plain": [
       "200"
      ]
     },
     "execution_count": 91,
     "metadata": {},
     "output_type": "execute_result"
    }
   ],
   "source": [
    "res.status_code"
   ]
  },
  {
   "cell_type": "code",
   "execution_count": 93,
   "metadata": {},
   "outputs": [
    {
     "data": {
      "text/plain": [
       "'{\\n \"kind\": \"youtube#commentThreadListResponse\",\\n \"etag\": \"\\\\\"SJZWTG6xR0eGuCOh2bX6w3s4F94/Y1h_xxSaP50MT5ka_Zyl7aKTW9A\\\\\"\",\\n \"nextPageToken\": \"QURTSl9pMkxUTWl6a2k0TGtDVFpESlFSdFlFM0pwYkJEc0Q1dEluUHRlS0NySVRsNm8xcnVGUmJ1R1Z4dGF3TG90NlRLS0xaejB5aHlheXhPcmduZUltXzQyZjVKTzUzbHMyWkdBTTVNSEFFdW5McUUwQjg3U0dYZ3d6dENBLXc=\",\\n \"pageInfo\": {\\n  \"totalResults\": 20,\\n  \"resultsPerPage\": 20\\n },\\n \"items\": [\\n  {\\n   \"kind\": \"youtube#commentThread\",\\n   \"etag\": \"\\\\\"SJZWTG6xR0eGuCOh2bX6w3s4F94/7IGfEeFS1DcAIP203KIeChPE55k\\\\\"\",\\n   \"id\": \"UgzuwgBZ4cA5ePDQkzV4AaABAg\",\\n   \"snippet\": {\\n    \"videoId\": \"2kyS6SvSYSE\",\\n    \"topLevelComment\": {\\n     \"kind\": \"youtube#comment\",\\n     \"etag\": \"\\\\\"SJZWTG6xR0eGuCOh2bX6w3s4F94/_GRA5BCc71oXLEINvzk-TOp6QwI\\\\\"\",\\n     \"id\": \"UgzuwgBZ4cA5ePDQkzV4AaABAg\",\\n     \"snippet\": {\\n      \"authorDisplayName\": \"Colonel Mayhem\",\\n      \"authorProfileImageUrl\": \"https://yt3.ggpht.com/a/AATXAJwu07MZTI8W107ICwFfOUpoBQvtz52iwVKVdw=s48-c-k-c0xffffffff-no-rj-mo\",\\n      \"authorChannelUrl\": \"http://www.youtube.com/channel/UCMcWl482JYabvNunATKdQxw\",\\n      \"authorChannelId\": {\\n       \"value\": \"UCMcWl482JYabvNunATKdQxw\"\\n      },\\n      \"videoId\": \"2kyS6SvSYSE\",\\n      \"textDisplay\": \"Candice is the best.\",\\n      \"textOriginal\": \"Candice is the best.\",\\n      \"canRate\": true,\\n      \"viewerRating\": \"none\",\\n      \"likeCount\": 0,\\n      \"publishedAt\": \"2020-02-22T11:02:12.000Z\",\\n      \"updatedAt\": \"2020-02-22T11:02:12.000Z\"\\n     }\\n    },\\n    \"canReply\": true,\\n    \"totalReplyCount\": 0,\\n    \"isPublic\": true\\n   }\\n  },\\n  {\\n   \"kind\": \"youtube#commentThread\",\\n   \"etag\": \"\\\\\"SJZWTG6xR0eGuCOh2bX6w3s4F94/vVuFc4dFZOITrn0p9IhgDvR-eQE\\\\\"\",\\n   \"id\": \"UgwxNY1kCK-2XSR92ZB4AaABAg\",\\n   \"snippet\": {\\n    \"videoId\": \"2kyS6SvSYSE\",\\n    \"topLevelComment\": {\\n     \"kind\": \"youtube#comment\",\\n     \"etag\": \"\\\\\"SJZWTG6xR0eGuCOh2bX6w3s4F94/_kFPV175EiEjym4xjpGjIA8WEZY\\\\\"\",\\n     \"id\": \"UgwxNY1kCK-2XSR92ZB4AaABAg\",\\n     \"snippet\": {\\n      \"authorDisplayName\": \"absins\",\\n      \"authorProfileImageUrl\": \"https://yt3.ggpht.com/a/AATXAJy0mH_sERNdVnxQyU2tG4RBqEgrm32NEk9Fog=s48-c-k-c0xffffffff-no-rj-mo\",\\n      \"authorChannelUrl\": \"http://www.youtube.com/channel/UCNn45mXO3DqkL5EUdQh-qQA\",\\n      \"authorChannelId\": {\\n       \"value\": \"UCNn45mXO3DqkL5EUdQh-qQA\"\\n      },\\n      \"videoId\": \"2kyS6SvSYSE\",\\n      \"textDisplay\": \"Its 2020 where is the pod my guy\",\\n      \"textOriginal\": \"Its 2020 where is the pod my guy\",\\n      \"canRate\": true,\\n      \"viewerRating\": \"none\",\\n      \"likeCount\": 0,\\n      \"publishedAt\": \"2020-01-29T18:54:13.000Z\",\\n      \"updatedAt\": \"2020-01-29T18:54:13.000Z\"\\n     }\\n    },\\n    \"canReply\": true,\\n    \"totalReplyCount\": 0,\\n    \"isPublic\": true\\n   }\\n  },\\n  {\\n   \"kind\": \"youtube#commentThread\",\\n   \"etag\": \"\\\\\"SJZWTG6xR0eGuCOh2bX6w3s4F94/LDbFLZ298ZUP4hwNVwUqafrkQBs\\\\\"\",\\n   \"id\": \"Ugx3lPH42MoGzh9KEux4AaABAg\",\\n   \"snippet\": {\\n    \"videoId\": \"2kyS6SvSYSE\",\\n    \"topLevelComment\": {\\n     \"kind\": \"youtube#comment\",\\n     \"etag\": \"\\\\\"SJZWTG6xR0eGuCOh2bX6w3s4F94/7oHdvWm53EW1EbK4Oo8nr0W9MQU\\\\\"\",\\n     \"id\": \"Ugx3lPH42MoGzh9KEux4AaABAg\",\\n     \"snippet\": {\\n      \"authorDisplayName\": \"Lisa & Dennis O\\'Rourke\",\\n      \"authorProfileImageUrl\": \"https://yt3.ggpht.com/a/AATXAJxCO_Bm9mxjTZdQjARt3I98KFi180T6lW67kg=s48-c-k-c0xffffffff-no-rj-mo\",\\n      \"authorChannelUrl\": \"http://www.youtube.com/channel/UCxWpoCNcfSA5xy3WbVmVZmQ\",\\n      \"authorChannelId\": {\\n       \"value\": \"UCxWpoCNcfSA5xy3WbVmVZmQ\"\\n      },\\n      \"videoId\": \"2kyS6SvSYSE\",\\n      \"textDisplay\": \"Candice should VLOG from her prospective\",\\n      \"textOriginal\": \"Candice should VLOG from her prospective\",\\n      \"canRate\": true,\\n      \"viewerRating\": \"none\",\\n      \"likeCount\": 0,\\n      \"publishedAt\": \"2019-11-22T01:54:28.000Z\",\\n      \"updatedAt\": \"2019-11-22T01:54:28.000Z\"\\n     }\\n    },\\n    \"canReply\": true,\\n    \"totalReplyCount\": 0,\\n    \"isPublic\": true\\n   }\\n  },\\n  {\\n   \"kind\": \"youtube#commentThread\",\\n   \"etag\": \"\\\\\"SJZWTG6xR0eGuCOh2bX6w3s4F94/qnkWfsk1pNa6snqIqUFrjqmEZ1Q\\\\\"\",\\n   \"id\": \"UgwJWZSrDys243QnlL54AaABAg\",\\n   \"snippet\": {\\n    \"videoId\": \"2kyS6SvSYSE\",\\n    \"topLevelComment\": {\\n     \"kind\": \"youtube#comment\",\\n     \"etag\": \"\\\\\"SJZWTG6xR0eGuCOh2bX6w3s4F94/p6VRYm7bg9w5zwGFlgzfHaD2HGs\\\\\"\",\\n     \"id\": \"UgwJWZSrDys243QnlL54AaABAg\",\\n     \"snippet\": {\\n      \"authorDisplayName\": \"SalsW\",\\n      \"authorProfileImageUrl\": \"https://yt3.ggpht.com/a/AATXAJxjJA5jMAR1tZ819-YZ7HbttGgJQ3fExeFvgg=s48-c-k-c0xffffffff-no-rj-mo\",\\n      \"authorChannelUrl\": \"http://www.youtube.com/channel/UCxlYKKwzmxOCtG2bWaCl7Tw\",\\n      \"authorChannelId\": {\\n       \"value\": \"UCxlYKKwzmxOCtG2bWaCl7Tw\"\\n      },\\n      \"videoId\": \"2kyS6SvSYSE\",\\n      \"textDisplay\": \"If you don’t like Candice you haven’t watched long enough. She’s my hero.\",\\n      \"textOriginal\": \"If you don’t like Candice you haven’t watched long enough. She’s my hero.\",\\n      \"canRate\": true,\\n      \"viewerRating\": \"none\",\\n      \"likeCount\": 0,\\n      \"publishedAt\": \"2019-11-02T04:32:51.000Z\",\\n      \"updatedAt\": \"2019-11-02T04:32:51.000Z\"\\n     }\\n    },\\n    \"canReply\": true,\\n    \"totalReplyCount\": 0,\\n    \"isPublic\": true\\n   }\\n  },\\n  {\\n   \"kind\": \"youtube#commentThread\",\\n   \"etag\": \"\\\\\"SJZWTG6xR0eGuCOh2bX6w3s4F94/LLgPWFQ5a5HWdmx4xB5M6-y2EJs\\\\\"\",\\n   \"id\": \"Ugy344OLZ8Sh5oSujql4AaABAg\",\\n   \"snippet\": {\\n    \"videoId\": \"2kyS6SvSYSE\",\\n    \"topLevelComment\": {\\n     \"kind\": \"youtube#comment\",\\n     \"etag\": \"\\\\\"SJZWTG6xR0eGuCOh2bX6w3s4F94/w-yrwgrlfd5g0iLBOJPH-756Cm0\\\\\"\",\\n     \"id\": \"Ugy344OLZ8Sh5oSujql4AaABAg\",\\n     \"snippet\": {\\n      \"authorDisplayName\": \"S Rowe\",\\n      \"authorProfileImageUrl\": \"https://yt3.ggpht.com/a/AATXAJxKAH4CDzEyz0qRgU70yFlLVAZm9Ace7iIeQQ=s48-c-k-c0xffffffff-no-rj-mo\",\\n      \"authorChannelUrl\": \"http://www.youtube.com/channel/UCl9d746x96uHOf_RD1RhDDA\",\\n      \"authorChannelId\": {\\n       \"value\": \"UCl9d746x96uHOf_RD1RhDDA\"\\n      },\\n      \"videoId\": \"2kyS6SvSYSE\",\\n      \"textDisplay\": \"Excellent episode!  I love that it&#39;s about more than one topic.  In that respect its a bit like a newscast: a bit about what&#39;s going on in Casey and Candice&#39;s personal life; a bit about his little dealie for removing mobile phone SIM cards; and a longer feature introducing Shantell and premiering the Sammy-sponsored film about her work and her creative process).  Good stuff!  I especially enjoyed the bit in the film where Shantell was repurposing the piano as a piece of functional 3-D art.\\\\u003cbr /\\\\u003eP.S.  \\\\u003ca href=\\\\\"https://www.youtube.com/watch?v=2kyS6SvSYSE&amp;t=01m44s\\\\\"\\\\u003e01:44\\\\u003c/a\\\\u003e Candice: &quot;I feel like we need another hour just on that topic.&quot;. Of course you need another hour.  You probably need several more hours of discussion, between the two of you, to sort out your individual feelings on whatever topic you were discussing with the therapist.  The point of couples therapy is not to solve each of your problems in a single hour.  It&#39;s intended to establish a conversational framework and ground rules that will enable the two of you to discuss your relationship issues on your own time like mature, loving partners, without screaming, or tears, or throwing things.\",\\n      \"textOriginal\": \"Excellent episode!  I love that it\\'s about more than one topic.  In that respect its a bit like a newscast: a bit about what\\'s going on in Casey and Candice\\'s personal life; a bit about his little dealie for removing mobile phone SIM cards; and a longer feature introducing Shantell and premiering the Sammy-sponsored film about her work and her creative process).  Good stuff!  I especially enjoyed the bit in the film where Shantell was repurposing the piano as a piece of functional 3-D art.\\\\nP.S.  01:44 Candice: \\\\\"I feel like we need another hour just on that topic.\\\\\". Of course you need another hour.  You probably need several more hours of discussion, between the two of you, to sort out your individual feelings on whatever topic you were discussing with the therapist.  The point of couples therapy is not to solve each of your problems in a single hour.  It\\'s intended to establish a conversational framework and ground rules that will enable the two of you to discuss your relationship issues on your own time like mature, loving partners, without screaming, or tears, or throwing things.\",\\n      \"canRate\": true,\\n      \"viewerRating\": \"none\",\\n      \"likeCount\": 0,\\n      \"publishedAt\": \"2019-08-16T18:52:11.000Z\",\\n      \"updatedAt\": \"2019-08-16T19:08:24.000Z\"\\n     }\\n    },\\n    \"canReply\": true,\\n    \"totalReplyCount\": 0,\\n    \"isPublic\": true\\n   }\\n  },\\n  {\\n   \"kind\": \"youtube#commentThread\",\\n   \"etag\": \"\\\\\"SJZWTG6xR0eGuCOh2bX6w3s4F94/7u0ZmihLgFCVAtQoWutUjDCAJok\\\\\"\",\\n   \"id\": \"UgyGxkM44Xds0fALrbZ4AaABAg\",\\n   \"snippet\": {\\n    \"videoId\": \"2kyS6SvSYSE\",\\n    \"topLevelComment\": {\\n     \"kind\": \"youtube#comment\",\\n     \"etag\": \"\\\\\"SJZWTG6xR0eGuCOh2bX6w3s4F94/jDVxyTWZXECcZwftpt3gm5V3qcU\\\\\"\",\\n     \"id\": \"UgyGxkM44Xds0fALrbZ4AaABAg\",\\n     \"snippet\": {\\n      \"authorDisplayName\": \"Jeff Pape\",\\n      \"authorProfileImageUrl\": \"https://yt3.ggpht.com/a/AATXAJyyJG-U1ak_A9OEjgiyEe1n01v2Unc71QvUIQ=s48-c-k-c0xffffffff-no-rj-mo\",\\n      \"authorChannelUrl\": \"http://www.youtube.com/channel/UCXCafBANaeVfxoIWKYUKiGw\",\\n      \"authorChannelId\": {\\n       \"value\": \"UCXCafBANaeVfxoIWKYUKiGw\"\\n      },\\n      \"videoId\": \"2kyS6SvSYSE\",\\n      \"textDisplay\": \"Man that movie was absolutely dope! Keep it up Shantell!\",\\n      \"textOriginal\": \"Man that movie was absolutely dope! Keep it up Shantell!\",\\n      \"canRate\": true,\\n      \"viewerRating\": \"none\",\\n      \"likeCount\": 1,\\n      \"publishedAt\": \"2019-07-02T04:03:54.000Z\",\\n      \"updatedAt\": \"2019-07-02T04:03:54.000Z\"\\n     }\\n    },\\n    \"canReply\": true,\\n    \"totalReplyCount\": 0,\\n    \"isPublic\": true\\n   }\\n  },\\n  {\\n   \"kind\": \"youtube#commentThread\",\\n   \"etag\": \"\\\\\"SJZWTG6xR0eGuCOh2bX6w3s4F94/MWYBFK9KznzMZzCMVycjBDKv_YE\\\\\"\",\\n   \"id\": \"UgwBZlX6IseMHDXVxSJ4AaABAg\",\\n   \"snippet\": {\\n    \"videoId\": \"2kyS6SvSYSE\",\\n    \"topLevelComment\": {\\n     \"kind\": \"youtube#comment\",\\n     \"etag\": \"\\\\\"SJZWTG6xR0eGuCOh2bX6w3s4F94/E3jv-A8sPC3wJUEF0L_Z21rwODc\\\\\"\",\\n     \"id\": \"UgwBZlX6IseMHDXVxSJ4AaABAg\",\\n     \"snippet\": {\\n      \"authorDisplayName\": \"Memoria James\",\\n      \"authorProfileImageUrl\": \"https://yt3.ggpht.com/a/AATXAJyx60LnWKPfkpqrV6UuY0w63Zm0lAx4r-TSzA=s48-c-k-c0xffffffff-no-rj-mo\",\\n      \"authorChannelUrl\": \"http://www.youtube.com/channel/UCnczA2RMQ1jtVkvO6InG6qQ\",\\n      \"authorChannelId\": {\\n       \"value\": \"UCnczA2RMQ1jtVkvO6InG6qQ\"\\n      },\\n      \"videoId\": \"2kyS6SvSYSE\",\\n      \"textDisplay\": \"I enjoyed the video! Great colab!!\",\\n      \"textOriginal\": \"I enjoyed the video! Great colab!!\",\\n      \"canRate\": true,\\n      \"viewerRating\": \"none\",\\n      \"likeCount\": 0,\\n      \"publishedAt\": \"2019-07-01T15:05:12.000Z\",\\n      \"updatedAt\": \"2019-07-01T15:05:12.000Z\"\\n     }\\n    },\\n    \"canReply\": true,\\n    \"totalReplyCount\": 0,\\n    \"isPublic\": true\\n   }\\n  },\\n  {\\n   \"kind\": \"youtube#commentThread\",\\n   \"etag\": \"\\\\\"SJZWTG6xR0eGuCOh2bX6w3s4F94/Gc6VTKvT03-J_yrb2qiLz214oxs\\\\\"\",\\n   \"id\": \"Ugz-JfwG9C7wOPlzXIF4AaABAg\",\\n   \"snippet\": {\\n    \"videoId\": \"2kyS6SvSYSE\",\\n    \"topLevelComment\": {\\n     \"kind\": \"youtube#comment\",\\n     \"etag\": \"\\\\\"SJZWTG6xR0eGuCOh2bX6w3s4F94/ptHp7vvQio4o0isnWiin166QK9Q\\\\\"\",\\n     \"id\": \"Ugz-JfwG9C7wOPlzXIF4AaABAg\",\\n     \"snippet\": {\\n      \"authorDisplayName\": \"Tony Rule\",\\n      \"authorProfileImageUrl\": \"https://yt3.ggpht.com/a/AATXAJxZAGHLAp_KavDA2T_CHAGAFHqp1otci2pRNQ=s48-c-k-c0xffffffff-no-rj-mo\",\\n      \"authorChannelUrl\": \"http://www.youtube.com/channel/UCYztaonqlo-Vj4U78nCsTog\",\\n      \"authorChannelId\": {\\n       \"value\": \"UCYztaonqlo-Vj4U78nCsTog\"\\n      },\\n      \"videoId\": \"2kyS6SvSYSE\",\\n      \"textDisplay\": \"WTF is this mindless shit and more importantly WTF is it doing in my feed? Has the Google algorithm been smoking crack? Nobody with more than two braincells wants to see these wankers. Be gone!\",\\n      \"textOriginal\": \"WTF is this mindless shit and more importantly WTF is it doing in my feed? Has the Google algorithm been smoking crack? Nobody with more than two braincells wants to see these wankers. Be gone!\",\\n      \"canRate\": true,\\n      \"viewerRating\": \"none\",\\n      \"likeCount\": 1,\\n      \"publishedAt\": \"2019-03-26T10:16:19.000Z\",\\n      \"updatedAt\": \"2019-03-26T10:16:19.000Z\"\\n     }\\n    },\\n    \"canReply\": true,\\n    \"totalReplyCount\": 0,\\n    \"isPublic\": true\\n   }\\n  },\\n  {\\n   \"kind\": \"youtube#commentThread\",\\n   \"etag\": \"\\\\\"SJZWTG6xR0eGuCOh2bX6w3s4F94/T8mo-I7PSLvtwho8jK0NxeIq4-Q\\\\\"\",\\n   \"id\": \"UgznnM5JWmb9KxlThOB4AaABAg\",\\n   \"snippet\": {\\n    \"videoId\": \"2kyS6SvSYSE\",\\n    \"topLevelComment\": {\\n     \"kind\": \"youtube#comment\",\\n     \"etag\": \"\\\\\"SJZWTG6xR0eGuCOh2bX6w3s4F94/xDn9Ely5TVJGz9MsGLEZOxL2Vg4\\\\\"\",\\n     \"id\": \"UgznnM5JWmb9KxlThOB4AaABAg\",\\n     \"snippet\": {\\n      \"authorDisplayName\": \"Some Body\",\\n      \"authorProfileImageUrl\": \"https://yt3.ggpht.com/a/AATXAJzLG4ydeWXszvlMuy8iPecKXczYsRrCY8shxA=s48-c-k-c0xffffffff-no-rj-mo\",\\n      \"authorChannelUrl\": \"http://www.youtube.com/channel/UCd3nO8jujK4W4jpsrDt-ZpA\",\\n      \"authorChannelId\": {\\n       \"value\": \"UCd3nO8jujK4W4jpsrDt-ZpA\"\\n      },\\n      \"videoId\": \"2kyS6SvSYSE\",\\n      \"textDisplay\": \"Wow! I love this video, especially the part with Shantell. Thank you Casey for sharing, I think I wouldn&#39;t find her channel if you hadn&#39;t invited her. She&#39;s such an inspiring person! You&#39;re my man Casey!\",\\n      \"textOriginal\": \"Wow! I love this video, especially the part with Shantell. Thank you Casey for sharing, I think I wouldn\\'t find her channel if you hadn\\'t invited her. She\\'s such an inspiring person! You\\'re my man Casey!\",\\n      \"canRate\": true,\\n      \"viewerRating\": \"none\",\\n      \"likeCount\": 0,\\n      \"publishedAt\": \"2019-03-23T13:15:10.000Z\",\\n      \"updatedAt\": \"2019-03-23T13:15:10.000Z\"\\n     }\\n    },\\n    \"canReply\": true,\\n    \"totalReplyCount\": 0,\\n    \"isPublic\": true\\n   }\\n  },\\n  {\\n   \"kind\": \"youtube#commentThread\",\\n   \"etag\": \"\\\\\"SJZWTG6xR0eGuCOh2bX6w3s4F94/LeUvnRLk5j9_sD1rLqXM9uNdMN4\\\\\"\",\\n   \"id\": \"UgxVYxFKRQjqlFOT9FR4AaABAg\",\\n   \"snippet\": {\\n    \"videoId\": \"2kyS6SvSYSE\",\\n    \"topLevelComment\": {\\n     \"kind\": \"youtube#comment\",\\n     \"etag\": \"\\\\\"SJZWTG6xR0eGuCOh2bX6w3s4F94/po2XN-ykHFS_g1upMmijF3CzF4M\\\\\"\",\\n     \"id\": \"UgxVYxFKRQjqlFOT9FR4AaABAg\",\\n     \"snippet\": {\\n      \"authorDisplayName\": \"Stephen Navarrete\",\\n      \"authorProfileImageUrl\": \"https://yt3.ggpht.com/a/AATXAJyHhcp-Yqf0hn4IeLsuDJq-ol7p030C9iDjKw=s48-c-k-c0xffffffff-no-rj-mo\",\\n      \"authorChannelUrl\": \"http://www.youtube.com/channel/UCV0pAcwNef3-jnoLBKmGd8g\",\\n      \"authorChannelId\": {\\n       \"value\": \"UCV0pAcwNef3-jnoLBKmGd8g\"\\n      },\\n      \"videoId\": \"2kyS6SvSYSE\",\\n      \"textDisplay\": \"I realize I am late to the game but I would love to see your podcast.  Be bold and strong and carry on as you do.\",\\n      \"textOriginal\": \"I realize I am late to the game but I would love to see your podcast.  Be bold and strong and carry on as you do.\",\\n      \"canRate\": true,\\n      \"viewerRating\": \"none\",\\n      \"likeCount\": 0,\\n      \"publishedAt\": \"2019-03-19T06:06:57.000Z\",\\n      \"updatedAt\": \"2019-03-19T06:06:57.000Z\"\\n     }\\n    },\\n    \"canReply\": true,\\n    \"totalReplyCount\": 0,\\n    \"isPublic\": true\\n   }\\n  },\\n  {\\n   \"kind\": \"youtube#commentThread\",\\n   \"etag\": \"\\\\\"SJZWTG6xR0eGuCOh2bX6w3s4F94/khQmUse--uGvOxl-mh80y8BD6gc\\\\\"\",\\n   \"id\": \"UgwgS-TjLWuGYo6ey_14AaABAg\",\\n   \"snippet\": {\\n    \"videoId\": \"2kyS6SvSYSE\",\\n    \"topLevelComment\": {\\n     \"kind\": \"youtube#comment\",\\n     \"etag\": \"\\\\\"SJZWTG6xR0eGuCOh2bX6w3s4F94/dZph20aB4JN3RVbkFOhzvvOPwUM\\\\\"\",\\n     \"id\": \"UgwgS-TjLWuGYo6ey_14AaABAg\",\\n     \"snippet\": {\\n      \"authorDisplayName\": \"Courtney Shaine\",\\n      \"authorProfileImageUrl\": \"https://yt3.ggpht.com/a/AATXAJxtdlb4yro5gKIU-weARQ9Ft2jwkHtR5jHxgw=s48-c-k-c0xffffffff-no-rj-mo\",\\n      \"authorChannelUrl\": \"http://www.youtube.com/channel/UCsR6lz0TRCqPnHWbO8UoMbA\",\\n      \"authorChannelId\": {\\n       \"value\": \"UCsR6lz0TRCqPnHWbO8UoMbA\"\\n      },\\n      \"videoId\": \"2kyS6SvSYSE\",\\n      \"textDisplay\": \"Candice, you are the long lost little sister of Alicia Silverstone!\",\\n      \"textOriginal\": \"Candice, you are the long lost little sister of Alicia Silverstone!\",\\n      \"canRate\": true,\\n      \"viewerRating\": \"none\",\\n      \"likeCount\": 0,\\n      \"publishedAt\": \"2019-01-28T17:32:01.000Z\",\\n      \"updatedAt\": \"2019-01-28T17:32:01.000Z\"\\n     }\\n    },\\n    \"canReply\": true,\\n    \"totalReplyCount\": 0,\\n    \"isPublic\": true\\n   }\\n  },\\n  {\\n   \"kind\": \"youtube#commentThread\",\\n   \"etag\": \"\\\\\"SJZWTG6xR0eGuCOh2bX6w3s4F94/-umpUU0KiECQ3-HacwVYd65ndME\\\\\"\",\\n   \"id\": \"UgxaZrMkeOfK66-Kqil4AaABAg\",\\n   \"snippet\": {\\n    \"videoId\": \"2kyS6SvSYSE\",\\n    \"topLevelComment\": {\\n     \"kind\": \"youtube#comment\",\\n     \"etag\": \"\\\\\"SJZWTG6xR0eGuCOh2bX6w3s4F94/gnrlXE6KdYEKK_31-BUUdNv9nKk\\\\\"\",\\n     \"id\": \"UgxaZrMkeOfK66-Kqil4AaABAg\",\\n     \"snippet\": {\\n      \"authorDisplayName\": \"lil D Z\",\\n      \"authorProfileImageUrl\": \"https://yt3.ggpht.com/a/AATXAJwuPhBCFWNR1dzat79rlhU0zmrN0z5pIdsVzw=s48-c-k-c0xffffffff-no-rj-mo\",\\n      \"authorChannelUrl\": \"http://www.youtube.com/channel/UCaJPLQEFJOSM6Edw2Lc-Ycw\",\\n      \"authorChannelId\": {\\n       \"value\": \"UCaJPLQEFJOSM6Edw2Lc-Ycw\"\\n      },\\n      \"videoId\": \"2kyS6SvSYSE\",\\n      \"textDisplay\": \"Yo and you’re wife is a good couple\",\\n      \"textOriginal\": \"Yo and you’re wife is a good couple\",\\n      \"canRate\": true,\\n      \"viewerRating\": \"none\",\\n      \"likeCount\": 0,\\n      \"publishedAt\": \"2019-01-27T11:59:22.000Z\",\\n      \"updatedAt\": \"2019-01-27T11:59:22.000Z\"\\n     }\\n    },\\n    \"canReply\": true,\\n    \"totalReplyCount\": 0,\\n    \"isPublic\": true\\n   }\\n  },\\n  {\\n   \"kind\": \"youtube#commentThread\",\\n   \"etag\": \"\\\\\"SJZWTG6xR0eGuCOh2bX6w3s4F94/RJt-6y7IGhUfHNSqzVIt3PYQvvU\\\\\"\",\\n   \"id\": \"Ugy7NJvsRL-mFdBJFMB4AaABAg\",\\n   \"snippet\": {\\n    \"videoId\": \"2kyS6SvSYSE\",\\n    \"topLevelComment\": {\\n     \"kind\": \"youtube#comment\",\\n     \"etag\": \"\\\\\"SJZWTG6xR0eGuCOh2bX6w3s4F94/YhK889yqpGeMl0FFMUVSTJhkmLU\\\\\"\",\\n     \"id\": \"Ugy7NJvsRL-mFdBJFMB4AaABAg\",\\n     \"snippet\": {\\n      \"authorDisplayName\": \"shubham singh\",\\n      \"authorProfileImageUrl\": \"https://yt3.ggpht.com/a/AATXAJwkk0oe-yyxSbKQfIC2KqZN0-GN8bkDUeWWzw=s48-c-k-c0xffffffff-no-rj-mo\",\\n      \"authorChannelUrl\": \"http://www.youtube.com/channel/UCnjJcfHF_0CZY3RhRgiv1WA\",\\n      \"authorChannelId\": {\\n       \"value\": \"UCnjJcfHF_0CZY3RhRgiv1WA\"\\n      },\\n      \"videoId\": \"2kyS6SvSYSE\",\\n      \"textDisplay\": \"Watch the Indian casie nesiat video it is so funny\",\\n      \"textOriginal\": \"Watch the Indian casie nesiat video it is so funny\",\\n      \"canRate\": true,\\n      \"viewerRating\": \"none\",\\n      \"likeCount\": 0,\\n      \"publishedAt\": \"2019-01-26T21:08:02.000Z\",\\n      \"updatedAt\": \"2019-01-26T21:08:02.000Z\"\\n     }\\n    },\\n    \"canReply\": true,\\n    \"totalReplyCount\": 0,\\n    \"isPublic\": true\\n   }\\n  },\\n  {\\n   \"kind\": \"youtube#commentThread\",\\n   \"etag\": \"\\\\\"SJZWTG6xR0eGuCOh2bX6w3s4F94/pnwT5eoDh9dCwQ4gM4-3ukY-pcI\\\\\"\",\\n   \"id\": \"UgykW9DPXZvOtjKjqaF4AaABAg\",\\n   \"snippet\": {\\n    \"videoId\": \"2kyS6SvSYSE\",\\n    \"topLevelComment\": {\\n     \"kind\": \"youtube#comment\",\\n     \"etag\": \"\\\\\"SJZWTG6xR0eGuCOh2bX6w3s4F94/4sF--Dq3relKzAPSDplEcVBGmN0\\\\\"\",\\n     \"id\": \"UgykW9DPXZvOtjKjqaF4AaABAg\",\\n     \"snippet\": {\\n      \"authorDisplayName\": \"Dan\",\\n      \"authorProfileImageUrl\": \"https://yt3.ggpht.com/a/AATXAJylmV61c-rQaTCI5_SeQFn8QrwJPv4gDJVQqw=s48-c-k-c0xffffffff-no-rj-mo\",\\n      \"authorChannelUrl\": \"http://www.youtube.com/channel/UCIc4UJZhBMgX79GF42QmSkw\",\\n      \"authorChannelId\": {\\n       \"value\": \"UCIc4UJZhBMgX79GF42QmSkw\"\\n      },\\n      \"videoId\": \"2kyS6SvSYSE\",\\n      \"textDisplay\": \"I like Candice. Personally I don&#39;t understand her drawings. They don&#39;t make me think and they don&#39;t move me emotionally. They don&#39;t cause me to pause or ask questions. I am sure someone likes it\",\\n      \"textOriginal\": \"I like Candice. Personally I don\\'t understand her drawings. They don\\'t make me think and they don\\'t move me emotionally. They don\\'t cause me to pause or ask questions. I am sure someone likes it\",\\n      \"canRate\": true,\\n      \"viewerRating\": \"none\",\\n      \"likeCount\": 0,\\n      \"publishedAt\": \"2019-01-25T23:17:07.000Z\",\\n      \"updatedAt\": \"2019-01-25T23:17:07.000Z\"\\n     }\\n    },\\n    \"canReply\": true,\\n    \"totalReplyCount\": 0,\\n    \"isPublic\": true\\n   }\\n  },\\n  {\\n   \"kind\": \"youtube#commentThread\",\\n   \"etag\": \"\\\\\"SJZWTG6xR0eGuCOh2bX6w3s4F94/yjStOsACrJfMhK5pkmdDrxIQKmg\\\\\"\",\\n   \"id\": \"Ugy1Ueeft32N8zaJSNZ4AaABAg\",\\n   \"snippet\": {\\n    \"videoId\": \"2kyS6SvSYSE\",\\n    \"topLevelComment\": {\\n     \"kind\": \"youtube#comment\",\\n     \"etag\": \"\\\\\"SJZWTG6xR0eGuCOh2bX6w3s4F94/71PVz4HYrxGppDrPVJhaFE1cZY0\\\\\"\",\\n     \"id\": \"Ugy1Ueeft32N8zaJSNZ4AaABAg\",\\n     \"snippet\": {\\n      \"authorDisplayName\": \"_salma_ rock_\",\\n      \"authorProfileImageUrl\": \"https://yt3.ggpht.com/a/AATXAJxJ6TZjChVV9LzyxUsb_oqV4PI9wrw0m2einA=s48-c-k-c0xffffffff-no-rj-mo\",\\n      \"authorChannelUrl\": \"http://www.youtube.com/channel/UC-_5tbWSwOSi4xje1hsDXaQ\",\\n      \"authorChannelId\": {\\n       \"value\": \"UC-_5tbWSwOSi4xje1hsDXaQ\"\\n      },\\n      \"videoId\": \"2kyS6SvSYSE\",\\n      \"textDisplay\": \"How old is he\",\\n      \"textOriginal\": \"How old is he\",\\n      \"canRate\": true,\\n      \"viewerRating\": \"none\",\\n      \"likeCount\": 0,\\n      \"publishedAt\": \"2019-01-14T15:38:48.000Z\",\\n      \"updatedAt\": \"2019-01-14T15:38:48.000Z\"\\n     }\\n    },\\n    \"canReply\": true,\\n    \"totalReplyCount\": 0,\\n    \"isPublic\": true\\n   }\\n  },\\n  {\\n   \"kind\": \"youtube#commentThread\",\\n   \"etag\": \"\\\\\"SJZWTG6xR0eGuCOh2bX6w3s4F94/_XfLpULJBYv7hKIVqpuE6J_s5YM\\\\\"\",\\n   \"id\": \"UgyLQBuvlaK_WO-yxbx4AaABAg\",\\n   \"snippet\": {\\n    \"videoId\": \"2kyS6SvSYSE\",\\n    \"topLevelComment\": {\\n     \"kind\": \"youtube#comment\",\\n     \"etag\": \"\\\\\"SJZWTG6xR0eGuCOh2bX6w3s4F94/klh4un6_No4QGntDR4R6lViU2J8\\\\\"\",\\n     \"id\": \"UgyLQBuvlaK_WO-yxbx4AaABAg\",\\n     \"snippet\": {\\n      \"authorDisplayName\": \"Ap3rture\",\\n      \"authorProfileImageUrl\": \"https://yt3.ggpht.com/a/AATXAJzaHawdZfveWb2m2inBXlWgjC5r4BAG8l1uAw=s48-c-k-c0xffffffff-no-rj-mo\",\\n      \"authorChannelUrl\": \"http://www.youtube.com/channel/UChCezRH8bspj5-QQJm_AMTw\",\\n      \"authorChannelId\": {\\n       \"value\": \"UChCezRH8bspj5-QQJm_AMTw\"\\n      },\\n      \"videoId\": \"2kyS6SvSYSE\",\\n      \"textDisplay\": \"Was she gonna cry at the beginning of the video???\",\\n      \"textOriginal\": \"Was she gonna cry at the beginning of the video???\",\\n      \"canRate\": true,\\n      \"viewerRating\": \"none\",\\n      \"likeCount\": 0,\\n      \"publishedAt\": \"2019-01-13T04:14:29.000Z\",\\n      \"updatedAt\": \"2019-01-13T04:14:29.000Z\"\\n     }\\n    },\\n    \"canReply\": true,\\n    \"totalReplyCount\": 0,\\n    \"isPublic\": true\\n   }\\n  },\\n  {\\n   \"kind\": \"youtube#commentThread\",\\n   \"etag\": \"\\\\\"SJZWTG6xR0eGuCOh2bX6w3s4F94/XVYCSbB1kzTm1U_glYDhAMrECS0\\\\\"\",\\n   \"id\": \"UgxovsCauJuR3P3en8Z4AaABAg\",\\n   \"snippet\": {\\n    \"videoId\": \"2kyS6SvSYSE\",\\n    \"topLevelComment\": {\\n     \"kind\": \"youtube#comment\",\\n     \"etag\": \"\\\\\"SJZWTG6xR0eGuCOh2bX6w3s4F94/IOM__8W1C_P2CdPEyQRafDz6ib0\\\\\"\",\\n     \"id\": \"UgxovsCauJuR3P3en8Z4AaABAg\",\\n     \"snippet\": {\\n      \"authorDisplayName\": \"month eight\",\\n      \"authorProfileImageUrl\": \"https://yt3.ggpht.com/a/AATXAJwObsVlMtZNmMFZ8-vcpOQHLPDoxkCIaIA1uw=s48-c-k-c0xffffffff-no-rj-mo\",\\n      \"authorChannelUrl\": \"http://www.youtube.com/channel/UCaVa1Kux9roJ9xGfCj-9RXA\",\\n      \"authorChannelId\": {\\n       \"value\": \"UCaVa1Kux9roJ9xGfCj-9RXA\"\\n      },\\n      \"videoId\": \"2kyS6SvSYSE\",\\n      \"textDisplay\": \"That woman’s art is so cool!\",\\n      \"textOriginal\": \"That woman’s art is so cool!\",\\n      \"canRate\": true,\\n      \"viewerRating\": \"none\",\\n      \"likeCount\": 0,\\n      \"publishedAt\": \"2018-12-25T15:14:54.000Z\",\\n      \"updatedAt\": \"2018-12-25T15:14:54.000Z\"\\n     }\\n    },\\n    \"canReply\": true,\\n    \"totalReplyCount\": 0,\\n    \"isPublic\": true\\n   }\\n  },\\n  {\\n   \"kind\": \"youtube#commentThread\",\\n   \"etag\": \"\\\\\"SJZWTG6xR0eGuCOh2bX6w3s4F94/J_KEsvBHH2_yC6-GxF1Z9lqYWWY\\\\\"\",\\n   \"id\": \"Ugy0vx1gfNGC6TtfBAp4AaABAg\",\\n   \"snippet\": {\\n    \"videoId\": \"2kyS6SvSYSE\",\\n    \"topLevelComment\": {\\n     \"kind\": \"youtube#comment\",\\n     \"etag\": \"\\\\\"SJZWTG6xR0eGuCOh2bX6w3s4F94/zopeh6gt87zZubr_N9tbqlCqZvU\\\\\"\",\\n     \"id\": \"Ugy0vx1gfNGC6TtfBAp4AaABAg\",\\n     \"snippet\": {\\n      \"authorDisplayName\": \"Pypaut\",\\n      \"authorProfileImageUrl\": \"https://yt3.ggpht.com/a/AATXAJzP133IUINC54TKJoAicUJNqu6jiS10s7eNUg=s48-c-k-c0xffffffff-no-rj-mo\",\\n      \"authorChannelUrl\": \"http://www.youtube.com/channel/UCneCmoKd3bl6jvurxqaabNw\",\\n      \"authorChannelId\": {\\n       \"value\": \"UCneCmoKd3bl6jvurxqaabNw\"\\n      },\\n      \"videoId\": \"2kyS6SvSYSE\",\\n      \"textDisplay\": \"I like Candice\",\\n      \"textOriginal\": \"I like Candice\",\\n      \"canRate\": true,\\n      \"viewerRating\": \"none\",\\n      \"likeCount\": 0,\\n      \"publishedAt\": \"2018-12-16T14:57:22.000Z\",\\n      \"updatedAt\": \"2018-12-16T14:57:22.000Z\"\\n     }\\n    },\\n    \"canReply\": true,\\n    \"totalReplyCount\": 0,\\n    \"isPublic\": true\\n   }\\n  },\\n  {\\n   \"kind\": \"youtube#commentThread\",\\n   \"etag\": \"\\\\\"SJZWTG6xR0eGuCOh2bX6w3s4F94/vwnM6bsyynskhvf5RiuBw3GNqQc\\\\\"\",\\n   \"id\": \"UgwC5ObszMRCVPt2yOZ4AaABAg\",\\n   \"snippet\": {\\n    \"videoId\": \"2kyS6SvSYSE\",\\n    \"topLevelComment\": {\\n     \"kind\": \"youtube#comment\",\\n     \"etag\": \"\\\\\"SJZWTG6xR0eGuCOh2bX6w3s4F94/p9x67fv38-0e0XoSDA-pggX4O5A\\\\\"\",\\n     \"id\": \"UgwC5ObszMRCVPt2yOZ4AaABAg\",\\n     \"snippet\": {\\n      \"authorDisplayName\": \"Louis Beeuwsaert\",\\n      \"authorProfileImageUrl\": \"https://yt3.ggpht.com/a/AATXAJyju7FksJxrzcOL9yToywA7jGRng-8x841WNQ=s48-c-k-c0xffffffff-no-rj-mo\",\\n      \"authorChannelUrl\": \"http://www.youtube.com/channel/UCRBnkpluZRObKmRuHcNCwYA\",\\n      \"authorChannelId\": {\\n       \"value\": \"UCRBnkpluZRObKmRuHcNCwYA\"\\n      },\\n      \"videoId\": \"2kyS6SvSYSE\",\\n      \"textDisplay\": \"To those saying &quot;this is not art... a kid could have done this&quot;, art is not about creating &quot;beautiful things&quot;, ART is having an idea, and express it on your own ways from start to end (photo, video, drawings, etc), art is a way to spread your personal ideas to other people and then they can talk about it and then have their own idea.\",\\n      \"textOriginal\": \"To those saying \\\\\"this is not art... a kid could have done this\\\\\", art is not about creating \\\\\"beautiful things\\\\\", ART is having an idea, and express it on your own ways from start to end (photo, video, drawings, etc), art is a way to spread your personal ideas to other people and then they can talk about it and then have their own idea.\",\\n      \"canRate\": true,\\n      \"viewerRating\": \"none\",\\n      \"likeCount\": 0,\\n      \"publishedAt\": \"2018-12-06T08:55:26.000Z\",\\n      \"updatedAt\": \"2018-12-06T08:55:26.000Z\"\\n     }\\n    },\\n    \"canReply\": true,\\n    \"totalReplyCount\": 0,\\n    \"isPublic\": true\\n   }\\n  },\\n  {\\n   \"kind\": \"youtube#commentThread\",\\n   \"etag\": \"\\\\\"SJZWTG6xR0eGuCOh2bX6w3s4F94/LLK9tbzLQCqItMYPGL3LDWCdflA\\\\\"\",\\n   \"id\": \"Ugz38-rT-O7yfq71uZZ4AaABAg\",\\n   \"snippet\": {\\n    \"videoId\": \"2kyS6SvSYSE\",\\n    \"topLevelComment\": {\\n     \"kind\": \"youtube#comment\",\\n     \"etag\": \"\\\\\"SJZWTG6xR0eGuCOh2bX6w3s4F94/-m63KDkp-C-OBw7NLEndeKkBOOY\\\\\"\",\\n     \"id\": \"Ugz38-rT-O7yfq71uZZ4AaABAg\",\\n     \"snippet\": {\\n      \"authorDisplayName\": \"leon lu\",\\n      \"authorProfileImageUrl\": \"https://yt3.ggpht.com/a/AATXAJxio4wwrtAbIdJCWRBYV-kQfn9cF59aSHGV1g=s48-c-k-c0xffffffff-no-rj-mo\",\\n      \"authorChannelUrl\": \"http://www.youtube.com/channel/UC-DDk3tql-ikMzU7780Q3jA\",\\n      \"authorChannelId\": {\\n       \"value\": \"UC-DDk3tql-ikMzU7780Q3jA\"\\n      },\\n      \"videoId\": \"2kyS6SvSYSE\",\\n      \"textDisplay\": \"Yay\",\\n      \"textOriginal\": \"Yay\",\\n      \"canRate\": true,\\n      \"viewerRating\": \"none\",\\n      \"likeCount\": 0,\\n      \"publishedAt\": \"2018-10-19T09:47:25.000Z\",\\n      \"updatedAt\": \"2018-10-19T09:47:25.000Z\"\\n     }\\n    },\\n    \"canReply\": true,\\n    \"totalReplyCount\": 0,\\n    \"isPublic\": true\\n   }\\n  }\\n ]\\n}\\n'"
      ]
     },
     "execution_count": 93,
     "metadata": {},
     "output_type": "execute_result"
    }
   ],
   "source": [
    "res.text"
   ]
  },
  {
   "cell_type": "code",
   "execution_count": 83,
   "metadata": {},
   "outputs": [],
   "source": [
    "soup = res.json()"
   ]
  },
  {
   "cell_type": "code",
   "execution_count": 84,
   "metadata": {},
   "outputs": [
    {
     "data": {
      "text/plain": [
       "dict_keys(['kind', 'etag', 'nextPageToken', 'pageInfo', 'items'])"
      ]
     },
     "execution_count": 84,
     "metadata": {},
     "output_type": "execute_result"
    }
   ],
   "source": [
    "soup.keys()"
   ]
  },
  {
   "cell_type": "code",
   "execution_count": 85,
   "metadata": {},
   "outputs": [
    {
     "data": {
      "text/plain": [
       "33"
      ]
     },
     "execution_count": 85,
     "metadata": {},
     "output_type": "execute_result"
    }
   ],
   "source": [
    "len(soup['kind'])"
   ]
  },
  {
   "cell_type": "code",
   "execution_count": 86,
   "metadata": {},
   "outputs": [
    {
     "data": {
      "text/plain": [
       "'youtube#commentThreadListResponse'"
      ]
     },
     "execution_count": 86,
     "metadata": {},
     "output_type": "execute_result"
    }
   ],
   "source": [
    "soup['kind']"
   ]
  },
  {
   "cell_type": "code",
   "execution_count": 87,
   "metadata": {},
   "outputs": [],
   "source": [
    "import numpy as np \n",
    "import pandas as pd"
   ]
  },
  {
   "cell_type": "code",
   "execution_count": 88,
   "metadata": {},
   "outputs": [
    {
     "data": {
      "text/html": [
       "<div>\n",
       "<style scoped>\n",
       "    .dataframe tbody tr th:only-of-type {\n",
       "        vertical-align: middle;\n",
       "    }\n",
       "\n",
       "    .dataframe tbody tr th {\n",
       "        vertical-align: top;\n",
       "    }\n",
       "\n",
       "    .dataframe thead th {\n",
       "        text-align: right;\n",
       "    }\n",
       "</style>\n",
       "<table border=\"1\" class=\"dataframe\">\n",
       "  <thead>\n",
       "    <tr style=\"text-align: right;\">\n",
       "      <th></th>\n",
       "      <th>kind</th>\n",
       "      <th>etag</th>\n",
       "      <th>id</th>\n",
       "      <th>snippet</th>\n",
       "    </tr>\n",
       "  </thead>\n",
       "  <tbody>\n",
       "    <tr>\n",
       "      <td>0</td>\n",
       "      <td>youtube#commentThread</td>\n",
       "      <td>\"SJZWTG6xR0eGuCOh2bX6w3s4F94/7IGfEeFS1DcAIP203...</td>\n",
       "      <td>UgzuwgBZ4cA5ePDQkzV4AaABAg</td>\n",
       "      <td>{'videoId': '2kyS6SvSYSE', 'topLevelComment': ...</td>\n",
       "    </tr>\n",
       "    <tr>\n",
       "      <td>1</td>\n",
       "      <td>youtube#commentThread</td>\n",
       "      <td>\"SJZWTG6xR0eGuCOh2bX6w3s4F94/vVuFc4dFZOITrn0p9...</td>\n",
       "      <td>UgwxNY1kCK-2XSR92ZB4AaABAg</td>\n",
       "      <td>{'videoId': '2kyS6SvSYSE', 'topLevelComment': ...</td>\n",
       "    </tr>\n",
       "    <tr>\n",
       "      <td>2</td>\n",
       "      <td>youtube#commentThread</td>\n",
       "      <td>\"SJZWTG6xR0eGuCOh2bX6w3s4F94/LDbFLZ298ZUP4hwNV...</td>\n",
       "      <td>Ugx3lPH42MoGzh9KEux4AaABAg</td>\n",
       "      <td>{'videoId': '2kyS6SvSYSE', 'topLevelComment': ...</td>\n",
       "    </tr>\n",
       "    <tr>\n",
       "      <td>3</td>\n",
       "      <td>youtube#commentThread</td>\n",
       "      <td>\"SJZWTG6xR0eGuCOh2bX6w3s4F94/qnkWfsk1pNa6snqIq...</td>\n",
       "      <td>UgwJWZSrDys243QnlL54AaABAg</td>\n",
       "      <td>{'videoId': '2kyS6SvSYSE', 'topLevelComment': ...</td>\n",
       "    </tr>\n",
       "    <tr>\n",
       "      <td>4</td>\n",
       "      <td>youtube#commentThread</td>\n",
       "      <td>\"SJZWTG6xR0eGuCOh2bX6w3s4F94/LLgPWFQ5a5HWdmx4x...</td>\n",
       "      <td>Ugy344OLZ8Sh5oSujql4AaABAg</td>\n",
       "      <td>{'videoId': '2kyS6SvSYSE', 'topLevelComment': ...</td>\n",
       "    </tr>\n",
       "    <tr>\n",
       "      <td>5</td>\n",
       "      <td>youtube#commentThread</td>\n",
       "      <td>\"SJZWTG6xR0eGuCOh2bX6w3s4F94/7u0ZmihLgFCVAtQoW...</td>\n",
       "      <td>UgyGxkM44Xds0fALrbZ4AaABAg</td>\n",
       "      <td>{'videoId': '2kyS6SvSYSE', 'topLevelComment': ...</td>\n",
       "    </tr>\n",
       "    <tr>\n",
       "      <td>6</td>\n",
       "      <td>youtube#commentThread</td>\n",
       "      <td>\"SJZWTG6xR0eGuCOh2bX6w3s4F94/MWYBFK9KznzMZzCMV...</td>\n",
       "      <td>UgwBZlX6IseMHDXVxSJ4AaABAg</td>\n",
       "      <td>{'videoId': '2kyS6SvSYSE', 'topLevelComment': ...</td>\n",
       "    </tr>\n",
       "    <tr>\n",
       "      <td>7</td>\n",
       "      <td>youtube#commentThread</td>\n",
       "      <td>\"SJZWTG6xR0eGuCOh2bX6w3s4F94/Gc6VTKvT03-J_yrb2...</td>\n",
       "      <td>Ugz-JfwG9C7wOPlzXIF4AaABAg</td>\n",
       "      <td>{'videoId': '2kyS6SvSYSE', 'topLevelComment': ...</td>\n",
       "    </tr>\n",
       "    <tr>\n",
       "      <td>8</td>\n",
       "      <td>youtube#commentThread</td>\n",
       "      <td>\"SJZWTG6xR0eGuCOh2bX6w3s4F94/T8mo-I7PSLvtwho8j...</td>\n",
       "      <td>UgznnM5JWmb9KxlThOB4AaABAg</td>\n",
       "      <td>{'videoId': '2kyS6SvSYSE', 'topLevelComment': ...</td>\n",
       "    </tr>\n",
       "    <tr>\n",
       "      <td>9</td>\n",
       "      <td>youtube#commentThread</td>\n",
       "      <td>\"SJZWTG6xR0eGuCOh2bX6w3s4F94/LeUvnRLk5j9_sD1rL...</td>\n",
       "      <td>UgxVYxFKRQjqlFOT9FR4AaABAg</td>\n",
       "      <td>{'videoId': '2kyS6SvSYSE', 'topLevelComment': ...</td>\n",
       "    </tr>\n",
       "    <tr>\n",
       "      <td>10</td>\n",
       "      <td>youtube#commentThread</td>\n",
       "      <td>\"SJZWTG6xR0eGuCOh2bX6w3s4F94/khQmUse--uGvOxl-m...</td>\n",
       "      <td>UgwgS-TjLWuGYo6ey_14AaABAg</td>\n",
       "      <td>{'videoId': '2kyS6SvSYSE', 'topLevelComment': ...</td>\n",
       "    </tr>\n",
       "    <tr>\n",
       "      <td>11</td>\n",
       "      <td>youtube#commentThread</td>\n",
       "      <td>\"SJZWTG6xR0eGuCOh2bX6w3s4F94/-umpUU0KiECQ3-Hac...</td>\n",
       "      <td>UgxaZrMkeOfK66-Kqil4AaABAg</td>\n",
       "      <td>{'videoId': '2kyS6SvSYSE', 'topLevelComment': ...</td>\n",
       "    </tr>\n",
       "    <tr>\n",
       "      <td>12</td>\n",
       "      <td>youtube#commentThread</td>\n",
       "      <td>\"SJZWTG6xR0eGuCOh2bX6w3s4F94/RJt-6y7IGhUfHNSqz...</td>\n",
       "      <td>Ugy7NJvsRL-mFdBJFMB4AaABAg</td>\n",
       "      <td>{'videoId': '2kyS6SvSYSE', 'topLevelComment': ...</td>\n",
       "    </tr>\n",
       "    <tr>\n",
       "      <td>13</td>\n",
       "      <td>youtube#commentThread</td>\n",
       "      <td>\"SJZWTG6xR0eGuCOh2bX6w3s4F94/pnwT5eoDh9dCwQ4gM...</td>\n",
       "      <td>UgykW9DPXZvOtjKjqaF4AaABAg</td>\n",
       "      <td>{'videoId': '2kyS6SvSYSE', 'topLevelComment': ...</td>\n",
       "    </tr>\n",
       "    <tr>\n",
       "      <td>14</td>\n",
       "      <td>youtube#commentThread</td>\n",
       "      <td>\"SJZWTG6xR0eGuCOh2bX6w3s4F94/yjStOsACrJfMhK5pk...</td>\n",
       "      <td>Ugy1Ueeft32N8zaJSNZ4AaABAg</td>\n",
       "      <td>{'videoId': '2kyS6SvSYSE', 'topLevelComment': ...</td>\n",
       "    </tr>\n",
       "    <tr>\n",
       "      <td>15</td>\n",
       "      <td>youtube#commentThread</td>\n",
       "      <td>\"SJZWTG6xR0eGuCOh2bX6w3s4F94/_XfLpULJBYv7hKIVq...</td>\n",
       "      <td>UgyLQBuvlaK_WO-yxbx4AaABAg</td>\n",
       "      <td>{'videoId': '2kyS6SvSYSE', 'topLevelComment': ...</td>\n",
       "    </tr>\n",
       "    <tr>\n",
       "      <td>16</td>\n",
       "      <td>youtube#commentThread</td>\n",
       "      <td>\"SJZWTG6xR0eGuCOh2bX6w3s4F94/XVYCSbB1kzTm1U_gl...</td>\n",
       "      <td>UgxovsCauJuR3P3en8Z4AaABAg</td>\n",
       "      <td>{'videoId': '2kyS6SvSYSE', 'topLevelComment': ...</td>\n",
       "    </tr>\n",
       "    <tr>\n",
       "      <td>17</td>\n",
       "      <td>youtube#commentThread</td>\n",
       "      <td>\"SJZWTG6xR0eGuCOh2bX6w3s4F94/J_KEsvBHH2_yC6-Gx...</td>\n",
       "      <td>Ugy0vx1gfNGC6TtfBAp4AaABAg</td>\n",
       "      <td>{'videoId': '2kyS6SvSYSE', 'topLevelComment': ...</td>\n",
       "    </tr>\n",
       "    <tr>\n",
       "      <td>18</td>\n",
       "      <td>youtube#commentThread</td>\n",
       "      <td>\"SJZWTG6xR0eGuCOh2bX6w3s4F94/vwnM6bsyynskhvf5R...</td>\n",
       "      <td>UgwC5ObszMRCVPt2yOZ4AaABAg</td>\n",
       "      <td>{'videoId': '2kyS6SvSYSE', 'topLevelComment': ...</td>\n",
       "    </tr>\n",
       "    <tr>\n",
       "      <td>19</td>\n",
       "      <td>youtube#commentThread</td>\n",
       "      <td>\"SJZWTG6xR0eGuCOh2bX6w3s4F94/LLK9tbzLQCqItMYPG...</td>\n",
       "      <td>Ugz38-rT-O7yfq71uZZ4AaABAg</td>\n",
       "      <td>{'videoId': '2kyS6SvSYSE', 'topLevelComment': ...</td>\n",
       "    </tr>\n",
       "  </tbody>\n",
       "</table>\n",
       "</div>"
      ],
      "text/plain": [
       "                     kind                                               etag  \\\n",
       "0   youtube#commentThread  \"SJZWTG6xR0eGuCOh2bX6w3s4F94/7IGfEeFS1DcAIP203...   \n",
       "1   youtube#commentThread  \"SJZWTG6xR0eGuCOh2bX6w3s4F94/vVuFc4dFZOITrn0p9...   \n",
       "2   youtube#commentThread  \"SJZWTG6xR0eGuCOh2bX6w3s4F94/LDbFLZ298ZUP4hwNV...   \n",
       "3   youtube#commentThread  \"SJZWTG6xR0eGuCOh2bX6w3s4F94/qnkWfsk1pNa6snqIq...   \n",
       "4   youtube#commentThread  \"SJZWTG6xR0eGuCOh2bX6w3s4F94/LLgPWFQ5a5HWdmx4x...   \n",
       "5   youtube#commentThread  \"SJZWTG6xR0eGuCOh2bX6w3s4F94/7u0ZmihLgFCVAtQoW...   \n",
       "6   youtube#commentThread  \"SJZWTG6xR0eGuCOh2bX6w3s4F94/MWYBFK9KznzMZzCMV...   \n",
       "7   youtube#commentThread  \"SJZWTG6xR0eGuCOh2bX6w3s4F94/Gc6VTKvT03-J_yrb2...   \n",
       "8   youtube#commentThread  \"SJZWTG6xR0eGuCOh2bX6w3s4F94/T8mo-I7PSLvtwho8j...   \n",
       "9   youtube#commentThread  \"SJZWTG6xR0eGuCOh2bX6w3s4F94/LeUvnRLk5j9_sD1rL...   \n",
       "10  youtube#commentThread  \"SJZWTG6xR0eGuCOh2bX6w3s4F94/khQmUse--uGvOxl-m...   \n",
       "11  youtube#commentThread  \"SJZWTG6xR0eGuCOh2bX6w3s4F94/-umpUU0KiECQ3-Hac...   \n",
       "12  youtube#commentThread  \"SJZWTG6xR0eGuCOh2bX6w3s4F94/RJt-6y7IGhUfHNSqz...   \n",
       "13  youtube#commentThread  \"SJZWTG6xR0eGuCOh2bX6w3s4F94/pnwT5eoDh9dCwQ4gM...   \n",
       "14  youtube#commentThread  \"SJZWTG6xR0eGuCOh2bX6w3s4F94/yjStOsACrJfMhK5pk...   \n",
       "15  youtube#commentThread  \"SJZWTG6xR0eGuCOh2bX6w3s4F94/_XfLpULJBYv7hKIVq...   \n",
       "16  youtube#commentThread  \"SJZWTG6xR0eGuCOh2bX6w3s4F94/XVYCSbB1kzTm1U_gl...   \n",
       "17  youtube#commentThread  \"SJZWTG6xR0eGuCOh2bX6w3s4F94/J_KEsvBHH2_yC6-Gx...   \n",
       "18  youtube#commentThread  \"SJZWTG6xR0eGuCOh2bX6w3s4F94/vwnM6bsyynskhvf5R...   \n",
       "19  youtube#commentThread  \"SJZWTG6xR0eGuCOh2bX6w3s4F94/LLK9tbzLQCqItMYPG...   \n",
       "\n",
       "                            id  \\\n",
       "0   UgzuwgBZ4cA5ePDQkzV4AaABAg   \n",
       "1   UgwxNY1kCK-2XSR92ZB4AaABAg   \n",
       "2   Ugx3lPH42MoGzh9KEux4AaABAg   \n",
       "3   UgwJWZSrDys243QnlL54AaABAg   \n",
       "4   Ugy344OLZ8Sh5oSujql4AaABAg   \n",
       "5   UgyGxkM44Xds0fALrbZ4AaABAg   \n",
       "6   UgwBZlX6IseMHDXVxSJ4AaABAg   \n",
       "7   Ugz-JfwG9C7wOPlzXIF4AaABAg   \n",
       "8   UgznnM5JWmb9KxlThOB4AaABAg   \n",
       "9   UgxVYxFKRQjqlFOT9FR4AaABAg   \n",
       "10  UgwgS-TjLWuGYo6ey_14AaABAg   \n",
       "11  UgxaZrMkeOfK66-Kqil4AaABAg   \n",
       "12  Ugy7NJvsRL-mFdBJFMB4AaABAg   \n",
       "13  UgykW9DPXZvOtjKjqaF4AaABAg   \n",
       "14  Ugy1Ueeft32N8zaJSNZ4AaABAg   \n",
       "15  UgyLQBuvlaK_WO-yxbx4AaABAg   \n",
       "16  UgxovsCauJuR3P3en8Z4AaABAg   \n",
       "17  Ugy0vx1gfNGC6TtfBAp4AaABAg   \n",
       "18  UgwC5ObszMRCVPt2yOZ4AaABAg   \n",
       "19  Ugz38-rT-O7yfq71uZZ4AaABAg   \n",
       "\n",
       "                                              snippet  \n",
       "0   {'videoId': '2kyS6SvSYSE', 'topLevelComment': ...  \n",
       "1   {'videoId': '2kyS6SvSYSE', 'topLevelComment': ...  \n",
       "2   {'videoId': '2kyS6SvSYSE', 'topLevelComment': ...  \n",
       "3   {'videoId': '2kyS6SvSYSE', 'topLevelComment': ...  \n",
       "4   {'videoId': '2kyS6SvSYSE', 'topLevelComment': ...  \n",
       "5   {'videoId': '2kyS6SvSYSE', 'topLevelComment': ...  \n",
       "6   {'videoId': '2kyS6SvSYSE', 'topLevelComment': ...  \n",
       "7   {'videoId': '2kyS6SvSYSE', 'topLevelComment': ...  \n",
       "8   {'videoId': '2kyS6SvSYSE', 'topLevelComment': ...  \n",
       "9   {'videoId': '2kyS6SvSYSE', 'topLevelComment': ...  \n",
       "10  {'videoId': '2kyS6SvSYSE', 'topLevelComment': ...  \n",
       "11  {'videoId': '2kyS6SvSYSE', 'topLevelComment': ...  \n",
       "12  {'videoId': '2kyS6SvSYSE', 'topLevelComment': ...  \n",
       "13  {'videoId': '2kyS6SvSYSE', 'topLevelComment': ...  \n",
       "14  {'videoId': '2kyS6SvSYSE', 'topLevelComment': ...  \n",
       "15  {'videoId': '2kyS6SvSYSE', 'topLevelComment': ...  \n",
       "16  {'videoId': '2kyS6SvSYSE', 'topLevelComment': ...  \n",
       "17  {'videoId': '2kyS6SvSYSE', 'topLevelComment': ...  \n",
       "18  {'videoId': '2kyS6SvSYSE', 'topLevelComment': ...  \n",
       "19  {'videoId': '2kyS6SvSYSE', 'topLevelComment': ...  "
      ]
     },
     "execution_count": 88,
     "metadata": {},
     "output_type": "execute_result"
    }
   ],
   "source": [
    "pd.DataFrame(soup['items'])"
   ]
  },
  {
   "cell_type": "code",
   "execution_count": null,
   "metadata": {},
   "outputs": [],
   "source": [
    "https://www.youtube.com/watch?v="
   ]
  },
  {
   "cell_type": "code",
   "execution_count": null,
   "metadata": {},
   "outputs": [],
   "source": []
  }
 ],
 "metadata": {
  "kernelspec": {
   "display_name": "Python 3",
   "language": "python",
   "name": "python3"
  },
  "language_info": {
   "codemirror_mode": {
    "name": "ipython",
    "version": 3
   },
   "file_extension": ".py",
   "mimetype": "text/x-python",
   "name": "python",
   "nbconvert_exporter": "python",
   "pygments_lexer": "ipython3",
   "version": "3.7.4"
  }
 },
 "nbformat": 4,
 "nbformat_minor": 2
}
