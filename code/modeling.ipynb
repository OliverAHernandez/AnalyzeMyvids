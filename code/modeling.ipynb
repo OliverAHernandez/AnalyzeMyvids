{
 "cells": [
  {
   "cell_type": "code",
   "execution_count": 19,
   "metadata": {},
   "outputs": [],
   "source": [
    "import pandas as pd\n",
    "import numpy as np \n",
    "import matplotlib.pyplot as plt\n",
    "import seaborn as sns\n",
    "from sklearn.neighbors import KNeighborsClassifier, KNeighborsRegressor\n",
    "from sklearn.preprocessing import StandardScaler, MinMaxScaler\n",
    "from sklearn.pipeline import Pipeline\n",
    "from sklearn.metrics import accuracy_score, f1_score, r2_score, mean_squared_error\n",
    "from sklearn.datasets import make_classification\n",
    "from sklearn.ensemble import * \n",
    "from sklearn.model_selection import train_test_split,cross_val_score\n",
    "from sklearn.tree import DecisionTreeClassifier, DecisionTreeRegressor\n",
    "from sklearn.linear_model import LinearRegression,LogisticRegression\n",
    "from sklearn.svm import SVR, SVC\n",
    "\n",
    "\n",
    "from tensorflow.keras.models import Sequential\n",
    "from tensorflow.keras.layers import Dense, Dropout\n",
    "from tensorflow.keras.wrappers.scikit_learn import KerasRegressor\n",
    "sns.set(style='darkgrid')"
   ]
  },
  {
   "cell_type": "code",
   "execution_count": 2,
   "metadata": {},
   "outputs": [],
   "source": [
    "data = pd.read_csv('../data/clean_data.csv')"
   ]
  },
  {
   "cell_type": "code",
   "execution_count": 3,
   "metadata": {},
   "outputs": [],
   "source": [
    "data['rating'] = round(data['likes'] / (data['likes']+data['dislikes']), ndigits=5)"
   ]
  },
  {
   "cell_type": "code",
   "execution_count": 4,
   "metadata": {},
   "outputs": [],
   "source": [
    "data.loc[data['likes'] == 0, 'rating'] = 0 \n"
   ]
  },
  {
   "cell_type": "code",
   "execution_count": 57,
   "metadata": {},
   "outputs": [
    {
     "data": {
      "text/html": [
       "<div>\n",
       "<style scoped>\n",
       "    .dataframe tbody tr th:only-of-type {\n",
       "        vertical-align: middle;\n",
       "    }\n",
       "\n",
       "    .dataframe tbody tr th {\n",
       "        vertical-align: top;\n",
       "    }\n",
       "\n",
       "    .dataframe thead th {\n",
       "        text-align: right;\n",
       "    }\n",
       "</style>\n",
       "<table border=\"1\" class=\"dataframe\">\n",
       "  <thead>\n",
       "    <tr style=\"text-align: right;\">\n",
       "      <th></th>\n",
       "      <th>video_id</th>\n",
       "      <th>trending_date</th>\n",
       "      <th>title</th>\n",
       "      <th>channel_title</th>\n",
       "      <th>category_id</th>\n",
       "      <th>publish_time</th>\n",
       "      <th>tags</th>\n",
       "      <th>views</th>\n",
       "      <th>likes</th>\n",
       "      <th>dislikes</th>\n",
       "      <th>...</th>\n",
       "      <th>ratings_disabled</th>\n",
       "      <th>video_error_or_removed</th>\n",
       "      <th>description</th>\n",
       "      <th>description_len</th>\n",
       "      <th>rating</th>\n",
       "      <th>engagement</th>\n",
       "      <th>tags_count</th>\n",
       "      <th>publish_day</th>\n",
       "      <th>trending_lag_time</th>\n",
       "      <th>like_rate</th>\n",
       "    </tr>\n",
       "  </thead>\n",
       "  <tbody>\n",
       "    <tr>\n",
       "      <td>0</td>\n",
       "      <td>2kyS6SvSYSE</td>\n",
       "      <td>2017-11-14</td>\n",
       "      <td>WE WANT TO TALK ABOUT OUR MARRIAGE</td>\n",
       "      <td>CaseyNeistat</td>\n",
       "      <td>22</td>\n",
       "      <td>2017-11-13 17:13:01+00:00</td>\n",
       "      <td>SHANtell martin</td>\n",
       "      <td>748374</td>\n",
       "      <td>57527</td>\n",
       "      <td>2966</td>\n",
       "      <td>...</td>\n",
       "      <td>0</td>\n",
       "      <td>0</td>\n",
       "      <td>SHANTELL'S CHANNEL - https://www.youtube.com/s...</td>\n",
       "      <td>1410</td>\n",
       "      <td>0.95097</td>\n",
       "      <td>0.021318</td>\n",
       "      <td>1</td>\n",
       "      <td>2017-11-13</td>\n",
       "      <td>1</td>\n",
       "      <td>0.076869</td>\n",
       "    </tr>\n",
       "    <tr>\n",
       "      <td>1</td>\n",
       "      <td>1ZAPwfrtAFY</td>\n",
       "      <td>2017-11-14</td>\n",
       "      <td>The Trump Presidency: Last Week Tonight with J...</td>\n",
       "      <td>LastWeekTonight</td>\n",
       "      <td>24</td>\n",
       "      <td>2017-11-13 07:30:00+00:00</td>\n",
       "      <td>last week tonight trump presidency|\"last week ...</td>\n",
       "      <td>2418783</td>\n",
       "      <td>97185</td>\n",
       "      <td>6146</td>\n",
       "      <td>...</td>\n",
       "      <td>0</td>\n",
       "      <td>0</td>\n",
       "      <td>One year after the presidential election, John...</td>\n",
       "      <td>630</td>\n",
       "      <td>0.94052</td>\n",
       "      <td>0.005252</td>\n",
       "      <td>4</td>\n",
       "      <td>2017-11-13</td>\n",
       "      <td>1</td>\n",
       "      <td>0.040179</td>\n",
       "    </tr>\n",
       "    <tr>\n",
       "      <td>2</td>\n",
       "      <td>5qpjK5DgCt4</td>\n",
       "      <td>2017-11-14</td>\n",
       "      <td>Racist Superman | Rudy Mancuso, King Bach &amp; Le...</td>\n",
       "      <td>Rudy Mancuso</td>\n",
       "      <td>23</td>\n",
       "      <td>2017-11-12 19:05:24+00:00</td>\n",
       "      <td>racist superman|\"rudy\"|\"mancuso\"|\"king\"|\"bach\"...</td>\n",
       "      <td>3191434</td>\n",
       "      <td>146033</td>\n",
       "      <td>5339</td>\n",
       "      <td>...</td>\n",
       "      <td>0</td>\n",
       "      <td>0</td>\n",
       "      <td>WATCH MY PREVIOUS VIDEO ▶ \\n\\nSUBSCRIBE ► http...</td>\n",
       "      <td>1177</td>\n",
       "      <td>0.96473</td>\n",
       "      <td>0.002563</td>\n",
       "      <td>23</td>\n",
       "      <td>2017-11-12</td>\n",
       "      <td>2</td>\n",
       "      <td>0.045758</td>\n",
       "    </tr>\n",
       "    <tr>\n",
       "      <td>3</td>\n",
       "      <td>puqaWrEC7tY</td>\n",
       "      <td>2017-11-14</td>\n",
       "      <td>Nickelback Lyrics: Real or Fake?</td>\n",
       "      <td>Good Mythical Morning</td>\n",
       "      <td>24</td>\n",
       "      <td>2017-11-13 11:00:04+00:00</td>\n",
       "      <td>rhett and link|\"gmm\"|\"good mythical morning\"|\"...</td>\n",
       "      <td>343168</td>\n",
       "      <td>10172</td>\n",
       "      <td>666</td>\n",
       "      <td>...</td>\n",
       "      <td>0</td>\n",
       "      <td>0</td>\n",
       "      <td>Today we find out if Link is a Nickelback amat...</td>\n",
       "      <td>1403</td>\n",
       "      <td>0.93855</td>\n",
       "      <td>0.006253</td>\n",
       "      <td>27</td>\n",
       "      <td>2017-11-13</td>\n",
       "      <td>1</td>\n",
       "      <td>0.029641</td>\n",
       "    </tr>\n",
       "    <tr>\n",
       "      <td>4</td>\n",
       "      <td>d380meD0W0M</td>\n",
       "      <td>2017-11-14</td>\n",
       "      <td>I Dare You: GOING BALD!?</td>\n",
       "      <td>nigahiga</td>\n",
       "      <td>24</td>\n",
       "      <td>2017-11-12 18:01:41+00:00</td>\n",
       "      <td>ryan|\"higa\"|\"higatv\"|\"nigahiga\"|\"i dare you\"|\"...</td>\n",
       "      <td>2095731</td>\n",
       "      <td>132235</td>\n",
       "      <td>1989</td>\n",
       "      <td>...</td>\n",
       "      <td>0</td>\n",
       "      <td>0</td>\n",
       "      <td>I know it's been a while since we did this sho...</td>\n",
       "      <td>636</td>\n",
       "      <td>0.98518</td>\n",
       "      <td>0.008359</td>\n",
       "      <td>14</td>\n",
       "      <td>2017-11-12</td>\n",
       "      <td>2</td>\n",
       "      <td>0.063097</td>\n",
       "    </tr>\n",
       "  </tbody>\n",
       "</table>\n",
       "<p>5 rows × 23 columns</p>\n",
       "</div>"
      ],
      "text/plain": [
       "      video_id trending_date  \\\n",
       "0  2kyS6SvSYSE    2017-11-14   \n",
       "1  1ZAPwfrtAFY    2017-11-14   \n",
       "2  5qpjK5DgCt4    2017-11-14   \n",
       "3  puqaWrEC7tY    2017-11-14   \n",
       "4  d380meD0W0M    2017-11-14   \n",
       "\n",
       "                                               title          channel_title  \\\n",
       "0                 WE WANT TO TALK ABOUT OUR MARRIAGE           CaseyNeistat   \n",
       "1  The Trump Presidency: Last Week Tonight with J...        LastWeekTonight   \n",
       "2  Racist Superman | Rudy Mancuso, King Bach & Le...           Rudy Mancuso   \n",
       "3                   Nickelback Lyrics: Real or Fake?  Good Mythical Morning   \n",
       "4                           I Dare You: GOING BALD!?               nigahiga   \n",
       "\n",
       "   category_id               publish_time  \\\n",
       "0           22  2017-11-13 17:13:01+00:00   \n",
       "1           24  2017-11-13 07:30:00+00:00   \n",
       "2           23  2017-11-12 19:05:24+00:00   \n",
       "3           24  2017-11-13 11:00:04+00:00   \n",
       "4           24  2017-11-12 18:01:41+00:00   \n",
       "\n",
       "                                                tags    views   likes  \\\n",
       "0                                    SHANtell martin   748374   57527   \n",
       "1  last week tonight trump presidency|\"last week ...  2418783   97185   \n",
       "2  racist superman|\"rudy\"|\"mancuso\"|\"king\"|\"bach\"...  3191434  146033   \n",
       "3  rhett and link|\"gmm\"|\"good mythical morning\"|\"...   343168   10172   \n",
       "4  ryan|\"higa\"|\"higatv\"|\"nigahiga\"|\"i dare you\"|\"...  2095731  132235   \n",
       "\n",
       "   dislikes  ...  ratings_disabled video_error_or_removed  \\\n",
       "0      2966  ...                 0                      0   \n",
       "1      6146  ...                 0                      0   \n",
       "2      5339  ...                 0                      0   \n",
       "3       666  ...                 0                      0   \n",
       "4      1989  ...                 0                      0   \n",
       "\n",
       "                                         description  description_len  \\\n",
       "0  SHANTELL'S CHANNEL - https://www.youtube.com/s...             1410   \n",
       "1  One year after the presidential election, John...              630   \n",
       "2  WATCH MY PREVIOUS VIDEO ▶ \\n\\nSUBSCRIBE ► http...             1177   \n",
       "3  Today we find out if Link is a Nickelback amat...             1403   \n",
       "4  I know it's been a while since we did this sho...              636   \n",
       "\n",
       "    rating engagement  tags_count  publish_day  trending_lag_time  like_rate  \n",
       "0  0.95097   0.021318           1   2017-11-13                  1   0.076869  \n",
       "1  0.94052   0.005252           4   2017-11-13                  1   0.040179  \n",
       "2  0.96473   0.002563          23   2017-11-12                  2   0.045758  \n",
       "3  0.93855   0.006253          27   2017-11-13                  1   0.029641  \n",
       "4  0.98518   0.008359          14   2017-11-12                  2   0.063097  \n",
       "\n",
       "[5 rows x 23 columns]"
      ]
     },
     "execution_count": 57,
     "metadata": {},
     "output_type": "execute_result"
    }
   ],
   "source": [
    "data.head()"
   ]
  },
  {
   "cell_type": "code",
   "execution_count": 5,
   "metadata": {},
   "outputs": [
    {
     "data": {
      "text/plain": [
       "Unnamed: 0                0\n",
       "video_id                  0\n",
       "trending_date             0\n",
       "title                     0\n",
       "channel_title             0\n",
       "category_id               0\n",
       "publish_time              0\n",
       "tags                      0\n",
       "views                     0\n",
       "likes                     0\n",
       "dislikes                  0\n",
       "comment_count             0\n",
       "thumbnail_link            0\n",
       "comments_disabled         0\n",
       "ratings_disabled          0\n",
       "video_error_or_removed    0\n",
       "description               0\n",
       "description_len           0\n",
       "rating                    0\n",
       "engagement                0\n",
       "tags_count                0\n",
       "publish_day               0\n",
       "trending_lag_time         0\n",
       "like_rate                 0\n",
       "dtype: int64"
      ]
     },
     "execution_count": 5,
     "metadata": {},
     "output_type": "execute_result"
    }
   ],
   "source": [
    "data.isna().sum()\n"
   ]
  },
  {
   "cell_type": "code",
   "execution_count": 37,
   "metadata": {},
   "outputs": [],
   "source": [
    "data.drop(columns='Unnamed: 0',inplace=True)"
   ]
  },
  {
   "cell_type": "code",
   "execution_count": 39,
   "metadata": {},
   "outputs": [],
   "source": [
    "data.to_csv('../data/clean_data.csv',index=False)"
   ]
  },
  {
   "cell_type": "code",
   "execution_count": 6,
   "metadata": {},
   "outputs": [],
   "source": [
    "features = ['views', 'likes', 'dislikes',\n",
    "       'comment_count', 'comments_disabled',\n",
    "       'ratings_disabled', 'video_error_or_removed',\n",
    "       'description_len', 'rating', 'engagement', 'tags_count',\n",
    "       'trending_lag_time', 'like_rate']"
   ]
  },
  {
   "cell_type": "code",
   "execution_count": null,
   "metadata": {},
   "outputs": [],
   "source": []
  },
  {
   "cell_type": "code",
   "execution_count": 7,
   "metadata": {},
   "outputs": [],
   "source": [
    "np.random.seed(123)"
   ]
  },
  {
   "cell_type": "code",
   "execution_count": 8,
   "metadata": {
    "scrolled": true
   },
   "outputs": [
    {
     "data": {
      "text/html": [
       "<div>\n",
       "<style scoped>\n",
       "    .dataframe tbody tr th:only-of-type {\n",
       "        vertical-align: middle;\n",
       "    }\n",
       "\n",
       "    .dataframe tbody tr th {\n",
       "        vertical-align: top;\n",
       "    }\n",
       "\n",
       "    .dataframe thead th {\n",
       "        text-align: right;\n",
       "    }\n",
       "</style>\n",
       "<table border=\"1\" class=\"dataframe\">\n",
       "  <thead>\n",
       "    <tr style=\"text-align: right;\">\n",
       "      <th></th>\n",
       "      <th>views</th>\n",
       "      <th>likes</th>\n",
       "      <th>dislikes</th>\n",
       "      <th>comment_count</th>\n",
       "      <th>comments_disabled</th>\n",
       "      <th>ratings_disabled</th>\n",
       "      <th>video_error_or_removed</th>\n",
       "      <th>description_len</th>\n",
       "      <th>rating</th>\n",
       "      <th>engagement</th>\n",
       "      <th>tags_count</th>\n",
       "      <th>trending_lag_time</th>\n",
       "      <th>like_rate</th>\n",
       "    </tr>\n",
       "  </thead>\n",
       "  <tbody>\n",
       "    <tr>\n",
       "      <td>0</td>\n",
       "      <td>-0.219613</td>\n",
       "      <td>-0.075224</td>\n",
       "      <td>-0.026500</td>\n",
       "      <td>0.198272</td>\n",
       "      <td>-0.12475</td>\n",
       "      <td>-0.063055</td>\n",
       "      <td>-0.023792</td>\n",
       "      <td>0.438054</td>\n",
       "      <td>0.182176</td>\n",
       "      <td>2.930120</td>\n",
       "      <td>-1.568795</td>\n",
       "      <td>-1.094021</td>\n",
       "      <td>1.565407</td>\n",
       "    </tr>\n",
       "    <tr>\n",
       "      <td>1</td>\n",
       "      <td>0.005568</td>\n",
       "      <td>0.097486</td>\n",
       "      <td>0.082656</td>\n",
       "      <td>0.111713</td>\n",
       "      <td>-0.12475</td>\n",
       "      <td>-0.063055</td>\n",
       "      <td>-0.023792</td>\n",
       "      <td>-0.475090</td>\n",
       "      <td>0.093231</td>\n",
       "      <td>0.135193</td>\n",
       "      <td>-1.318538</td>\n",
       "      <td>-1.094021</td>\n",
       "      <td>0.206230</td>\n",
       "    </tr>\n",
       "    <tr>\n",
       "      <td>2</td>\n",
       "      <td>0.109725</td>\n",
       "      <td>0.310218</td>\n",
       "      <td>0.054955</td>\n",
       "      <td>-0.008686</td>\n",
       "      <td>-0.12475</td>\n",
       "      <td>-0.063055</td>\n",
       "      <td>-0.023792</td>\n",
       "      <td>0.165281</td>\n",
       "      <td>0.299293</td>\n",
       "      <td>-0.332481</td>\n",
       "      <td>0.266426</td>\n",
       "      <td>-0.898740</td>\n",
       "      <td>0.412885</td>\n",
       "    </tr>\n",
       "    <tr>\n",
       "      <td>3</td>\n",
       "      <td>-0.274237</td>\n",
       "      <td>-0.281453</td>\n",
       "      <td>-0.105450</td>\n",
       "      <td>-0.169370</td>\n",
       "      <td>-0.12475</td>\n",
       "      <td>-0.063055</td>\n",
       "      <td>-0.023792</td>\n",
       "      <td>0.429859</td>\n",
       "      <td>0.076464</td>\n",
       "      <td>0.309447</td>\n",
       "      <td>0.600103</td>\n",
       "      <td>-1.094021</td>\n",
       "      <td>-0.184143</td>\n",
       "    </tr>\n",
       "    <tr>\n",
       "      <td>4</td>\n",
       "      <td>-0.037982</td>\n",
       "      <td>0.250128</td>\n",
       "      <td>-0.060037</td>\n",
       "      <td>0.239913</td>\n",
       "      <td>-0.12475</td>\n",
       "      <td>-0.063055</td>\n",
       "      <td>-0.023792</td>\n",
       "      <td>-0.468065</td>\n",
       "      <td>0.473352</td>\n",
       "      <td>0.675704</td>\n",
       "      <td>-0.484346</td>\n",
       "      <td>-0.898740</td>\n",
       "      <td>1.055225</td>\n",
       "    </tr>\n",
       "  </tbody>\n",
       "</table>\n",
       "</div>"
      ],
      "text/plain": [
       "      views     likes  dislikes  comment_count  comments_disabled  \\\n",
       "0 -0.219613 -0.075224 -0.026500       0.198272           -0.12475   \n",
       "1  0.005568  0.097486  0.082656       0.111713           -0.12475   \n",
       "2  0.109725  0.310218  0.054955      -0.008686           -0.12475   \n",
       "3 -0.274237 -0.281453 -0.105450      -0.169370           -0.12475   \n",
       "4 -0.037982  0.250128 -0.060037       0.239913           -0.12475   \n",
       "\n",
       "   ratings_disabled  video_error_or_removed  description_len    rating  \\\n",
       "0         -0.063055               -0.023792         0.438054  0.182176   \n",
       "1         -0.063055               -0.023792        -0.475090  0.093231   \n",
       "2         -0.063055               -0.023792         0.165281  0.299293   \n",
       "3         -0.063055               -0.023792         0.429859  0.076464   \n",
       "4         -0.063055               -0.023792        -0.468065  0.473352   \n",
       "\n",
       "   engagement  tags_count  trending_lag_time  like_rate  \n",
       "0    2.930120   -1.568795          -1.094021   1.565407  \n",
       "1    0.135193   -1.318538          -1.094021   0.206230  \n",
       "2   -0.332481    0.266426          -0.898740   0.412885  \n",
       "3    0.309447    0.600103          -1.094021  -0.184143  \n",
       "4    0.675704   -0.484346          -0.898740   1.055225  "
      ]
     },
     "execution_count": 8,
     "metadata": {},
     "output_type": "execute_result"
    }
   ],
   "source": [
    "ss = StandardScaler()\n",
    "ss_df = pd.DataFrame(ss.fit_transform(data[features]),\n",
    "                        columns = data[features].columns).copy()\n",
    "\n",
    "ss_df.head()"
   ]
  },
  {
   "cell_type": "code",
   "execution_count": 9,
   "metadata": {},
   "outputs": [
    {
     "data": {
      "text/plain": [
       "views                     0\n",
       "likes                     0\n",
       "dislikes                  0\n",
       "comment_count             0\n",
       "comments_disabled         0\n",
       "ratings_disabled          0\n",
       "video_error_or_removed    0\n",
       "description_len           0\n",
       "rating                    0\n",
       "engagement                0\n",
       "tags_count                0\n",
       "trending_lag_time         0\n",
       "like_rate                 0\n",
       "dtype: int64"
      ]
     },
     "execution_count": 9,
     "metadata": {},
     "output_type": "execute_result"
    }
   ],
   "source": [
    "ss_df.isna().sum()"
   ]
  },
  {
   "cell_type": "code",
   "execution_count": 10,
   "metadata": {},
   "outputs": [],
   "source": [
    "X_train, X_test, y_train, y_test = train_test_split(ss_df.drop(columns =['views']),\n",
    "                                                    ss_df['views'],\n",
    "                                                    test_size = .25,\n",
    "                                                    random_state = 1238,\n",
    "                                                    shuffle=True)"
   ]
  },
  {
   "cell_type": "code",
   "execution_count": 11,
   "metadata": {},
   "outputs": [
    {
     "data": {
      "text/plain": [
       "12"
      ]
     },
     "execution_count": 11,
     "metadata": {},
     "output_type": "execute_result"
    }
   ],
   "source": [
    "len(list(X_train.columns))"
   ]
  },
  {
   "cell_type": "code",
   "execution_count": 12,
   "metadata": {},
   "outputs": [
    {
     "data": {
      "text/plain": [
       "likes                     0\n",
       "dislikes                  0\n",
       "comment_count             0\n",
       "comments_disabled         0\n",
       "ratings_disabled          0\n",
       "video_error_or_removed    0\n",
       "description_len           0\n",
       "rating                    0\n",
       "engagement                0\n",
       "tags_count                0\n",
       "trending_lag_time         0\n",
       "like_rate                 0\n",
       "dtype: int64"
      ]
     },
     "execution_count": 12,
     "metadata": {},
     "output_type": "execute_result"
    }
   ],
   "source": [
    "X_train.isna().sum() # bring this up to will. Standard scalar creates a bunch of NA's"
   ]
  },
  {
   "cell_type": "code",
   "execution_count": 13,
   "metadata": {},
   "outputs": [
    {
     "data": {
      "text/html": [
       "<div>\n",
       "<style scoped>\n",
       "    .dataframe tbody tr th:only-of-type {\n",
       "        vertical-align: middle;\n",
       "    }\n",
       "\n",
       "    .dataframe tbody tr th {\n",
       "        vertical-align: top;\n",
       "    }\n",
       "\n",
       "    .dataframe thead th {\n",
       "        text-align: right;\n",
       "    }\n",
       "</style>\n",
       "<table border=\"1\" class=\"dataframe\">\n",
       "  <thead>\n",
       "    <tr style=\"text-align: right;\">\n",
       "      <th></th>\n",
       "      <th>likes</th>\n",
       "      <th>dislikes</th>\n",
       "      <th>comment_count</th>\n",
       "      <th>comments_disabled</th>\n",
       "      <th>ratings_disabled</th>\n",
       "      <th>video_error_or_removed</th>\n",
       "      <th>description_len</th>\n",
       "      <th>rating</th>\n",
       "      <th>engagement</th>\n",
       "      <th>tags_count</th>\n",
       "      <th>trending_lag_time</th>\n",
       "      <th>like_rate</th>\n",
       "    </tr>\n",
       "  </thead>\n",
       "  <tbody>\n",
       "    <tr>\n",
       "      <td>10892</td>\n",
       "      <td>0.197598</td>\n",
       "      <td>0.779028</td>\n",
       "      <td>0.702367</td>\n",
       "      <td>-0.12475</td>\n",
       "      <td>-0.063055</td>\n",
       "      <td>-0.023792</td>\n",
       "      <td>1.292662</td>\n",
       "      <td>-0.935120</td>\n",
       "      <td>0.255646</td>\n",
       "      <td>0.683522</td>\n",
       "      <td>-0.312897</td>\n",
       "      <td>-0.523687</td>\n",
       "    </tr>\n",
       "    <tr>\n",
       "      <td>25388</td>\n",
       "      <td>-0.307762</td>\n",
       "      <td>-0.117705</td>\n",
       "      <td>-0.205394</td>\n",
       "      <td>-0.12475</td>\n",
       "      <td>-0.063055</td>\n",
       "      <td>-0.023792</td>\n",
       "      <td>-0.099296</td>\n",
       "      <td>0.007181</td>\n",
       "      <td>-0.534035</td>\n",
       "      <td>0.850360</td>\n",
       "      <td>0.663509</td>\n",
       "      <td>-1.011107</td>\n",
       "    </tr>\n",
       "    <tr>\n",
       "      <td>6770</td>\n",
       "      <td>-0.131337</td>\n",
       "      <td>-0.047680</td>\n",
       "      <td>-0.126530</td>\n",
       "      <td>-0.12475</td>\n",
       "      <td>-0.063055</td>\n",
       "      <td>-0.023792</td>\n",
       "      <td>-0.557038</td>\n",
       "      <td>0.174005</td>\n",
       "      <td>-0.349130</td>\n",
       "      <td>0.266426</td>\n",
       "      <td>-0.508178</td>\n",
       "      <td>-0.195385</td>\n",
       "    </tr>\n",
       "    <tr>\n",
       "      <td>3805</td>\n",
       "      <td>-0.234546</td>\n",
       "      <td>-0.098379</td>\n",
       "      <td>-0.191788</td>\n",
       "      <td>-0.12475</td>\n",
       "      <td>-0.063055</td>\n",
       "      <td>-0.023792</td>\n",
       "      <td>1.167398</td>\n",
       "      <td>0.259289</td>\n",
       "      <td>-0.575489</td>\n",
       "      <td>1.017199</td>\n",
       "      <td>-0.508178</td>\n",
       "      <td>-0.588175</td>\n",
       "    </tr>\n",
       "    <tr>\n",
       "      <td>35191</td>\n",
       "      <td>-0.066496</td>\n",
       "      <td>-0.045345</td>\n",
       "      <td>0.007608</td>\n",
       "      <td>-0.12475</td>\n",
       "      <td>-0.063055</td>\n",
       "      <td>-0.023792</td>\n",
       "      <td>-0.450505</td>\n",
       "      <td>0.267375</td>\n",
       "      <td>0.810474</td>\n",
       "      <td>-1.568795</td>\n",
       "      <td>0.858790</td>\n",
       "      <td>1.008538</td>\n",
       "    </tr>\n",
       "  </tbody>\n",
       "</table>\n",
       "</div>"
      ],
      "text/plain": [
       "          likes  dislikes  comment_count  comments_disabled  ratings_disabled  \\\n",
       "10892  0.197598  0.779028       0.702367           -0.12475         -0.063055   \n",
       "25388 -0.307762 -0.117705      -0.205394           -0.12475         -0.063055   \n",
       "6770  -0.131337 -0.047680      -0.126530           -0.12475         -0.063055   \n",
       "3805  -0.234546 -0.098379      -0.191788           -0.12475         -0.063055   \n",
       "35191 -0.066496 -0.045345       0.007608           -0.12475         -0.063055   \n",
       "\n",
       "       video_error_or_removed  description_len    rating  engagement  \\\n",
       "10892               -0.023792         1.292662 -0.935120    0.255646   \n",
       "25388               -0.023792        -0.099296  0.007181   -0.534035   \n",
       "6770                -0.023792        -0.557038  0.174005   -0.349130   \n",
       "3805                -0.023792         1.167398  0.259289   -0.575489   \n",
       "35191               -0.023792        -0.450505  0.267375    0.810474   \n",
       "\n",
       "       tags_count  trending_lag_time  like_rate  \n",
       "10892    0.683522          -0.312897  -0.523687  \n",
       "25388    0.850360           0.663509  -1.011107  \n",
       "6770     0.266426          -0.508178  -0.195385  \n",
       "3805     1.017199          -0.508178  -0.588175  \n",
       "35191   -1.568795           0.858790   1.008538  "
      ]
     },
     "execution_count": 13,
     "metadata": {},
     "output_type": "execute_result"
    }
   ],
   "source": [
    "X_train.head()"
   ]
  },
  {
   "cell_type": "code",
   "execution_count": 14,
   "metadata": {
    "scrolled": true
   },
   "outputs": [
    {
     "name": "stderr",
     "output_type": "stream",
     "text": [
      "C:\\Users\\oaher\\Anaconda3\\lib\\site-packages\\sklearn\\ensemble\\forest.py:245: FutureWarning: The default value of n_estimators will change from 10 in version 0.20 to 100 in 0.22.\n",
      "  \"10 in version 0.20 to 100 in 0.22.\", FutureWarning)\n",
      "C:\\Users\\oaher\\Anaconda3\\lib\\site-packages\\sklearn\\svm\\base.py:193: FutureWarning: The default value of gamma will change from 'auto' to 'scale' in version 0.22 to account better for unscaled features. Set gamma explicitly to 'auto' or 'scale' to avoid this warning.\n",
      "  \"avoid this warning.\", FutureWarning)\n"
     ]
    },
    {
     "name": "stdout",
     "output_type": "stream",
     "text": [
      "Train on 30491 samples\n",
      "Epoch 1/50\n",
      "30491/30491 [==============================] - 2s 71us/sample - loss: 0.2323\n",
      "Epoch 2/50\n",
      "30491/30491 [==============================] - 2s 57us/sample - loss: 0.0927\n",
      "Epoch 3/50\n",
      "30491/30491 [==============================] - 2s 64us/sample - loss: 0.0918\n",
      "Epoch 4/50\n",
      "30491/30491 [==============================] - 2s 58us/sample - loss: 0.0532\n",
      "Epoch 5/50\n",
      "30491/30491 [==============================] - 2s 65us/sample - loss: 0.0587\n",
      "Epoch 6/50\n",
      "30491/30491 [==============================] - 2s 58us/sample - loss: 0.0511\n",
      "Epoch 7/50\n",
      "30491/30491 [==============================] - 2s 58us/sample - loss: 0.0599\n",
      "Epoch 8/50\n",
      "30491/30491 [==============================] - 2s 65us/sample - loss: 0.0514\n",
      "Epoch 9/50\n",
      "30491/30491 [==============================] - 2s 58us/sample - loss: 0.0464\n",
      "Epoch 10/50\n",
      "30491/30491 [==============================] - 2s 58us/sample - loss: 0.0483\n",
      "Epoch 11/50\n",
      "30491/30491 [==============================] - 2s 58us/sample - loss: 0.0431\n",
      "Epoch 12/50\n",
      "30491/30491 [==============================] - 2s 57us/sample - loss: 0.0456\n",
      "Epoch 13/50\n",
      "30491/30491 [==============================] - 2s 58us/sample - loss: 0.0426\n",
      "Epoch 14/50\n",
      "30491/30491 [==============================] - 2s 58us/sample - loss: 0.0398\n",
      "Epoch 15/50\n",
      "30491/30491 [==============================] - 2s 58us/sample - loss: 0.0389\n",
      "Epoch 16/50\n",
      "30491/30491 [==============================] - 2s 59us/sample - loss: 0.0325\n",
      "Epoch 17/50\n",
      "30491/30491 [==============================] - 2s 59us/sample - loss: 0.0354\n",
      "Epoch 18/50\n",
      "30491/30491 [==============================] - 2s 58us/sample - loss: 0.0345\n",
      "Epoch 19/50\n",
      "30491/30491 [==============================] - 2s 59us/sample - loss: 0.0416\n",
      "Epoch 20/50\n",
      "30491/30491 [==============================] - 2s 60us/sample - loss: 0.0348\n",
      "Epoch 21/50\n",
      "30491/30491 [==============================] - 2s 58us/sample - loss: 0.0327\n",
      "Epoch 22/50\n",
      "30491/30491 [==============================] - 2s 58us/sample - loss: 0.0305\n",
      "Epoch 23/50\n",
      "30491/30491 [==============================] - 2s 58us/sample - loss: 0.0282\n",
      "Epoch 24/50\n",
      "30491/30491 [==============================] - 2s 58us/sample - loss: 0.0284\n",
      "Epoch 25/50\n",
      "30491/30491 [==============================] - 2s 59us/sample - loss: 0.0284\n",
      "Epoch 26/50\n",
      "30491/30491 [==============================] - 2s 59us/sample - loss: 0.0290\n",
      "Epoch 27/50\n",
      "30491/30491 [==============================] - 2s 59us/sample - loss: 0.0294\n",
      "Epoch 28/50\n",
      "30491/30491 [==============================] - 2s 59us/sample - loss: 0.0300\n",
      "Epoch 29/50\n",
      "30491/30491 [==============================] - 2s 59us/sample - loss: 0.0281\n",
      "Epoch 30/50\n",
      "30491/30491 [==============================] - 2s 58us/sample - loss: 0.0289\n",
      "Epoch 31/50\n",
      "30491/30491 [==============================] - 2s 59us/sample - loss: 0.0244\n",
      "Epoch 32/50\n",
      "30491/30491 [==============================] - 2s 59us/sample - loss: 0.0237\n",
      "Epoch 33/50\n",
      "30491/30491 [==============================] - 2s 58us/sample - loss: 0.0271\n",
      "Epoch 34/50\n",
      "30491/30491 [==============================] - 2s 59us/sample - loss: 0.0225\n",
      "Epoch 35/50\n",
      "30491/30491 [==============================] - 2s 57us/sample - loss: 0.0305\n",
      "Epoch 36/50\n",
      "30491/30491 [==============================] - 2s 58us/sample - loss: 0.0259\n",
      "Epoch 37/50\n",
      "30491/30491 [==============================] - 2s 58us/sample - loss: 0.0243\n",
      "Epoch 38/50\n",
      "30491/30491 [==============================] - 2s 58us/sample - loss: 0.0245\n",
      "Epoch 39/50\n",
      "30491/30491 [==============================] - 2s 58us/sample - loss: 0.0248\n",
      "Epoch 40/50\n",
      "30491/30491 [==============================] - 2s 59us/sample - loss: 0.0266\n",
      "Epoch 41/50\n",
      "30491/30491 [==============================] - 2s 58us/sample - loss: 0.0225\n",
      "Epoch 42/50\n",
      "30491/30491 [==============================] - 2s 58us/sample - loss: 0.0247\n",
      "Epoch 43/50\n",
      "30491/30491 [==============================] - 2s 58us/sample - loss: 0.0257\n",
      "Epoch 44/50\n",
      "30491/30491 [==============================] - 2s 58us/sample - loss: 0.0240\n",
      "Epoch 45/50\n",
      "30491/30491 [==============================] - 2s 58us/sample - loss: 0.0294\n",
      "Epoch 46/50\n",
      "30491/30491 [==============================] - 2s 57us/sample - loss: 0.0224\n",
      "Epoch 47/50\n",
      "30491/30491 [==============================] - 2s 58us/sample - loss: 0.0212\n",
      "Epoch 48/50\n",
      "30491/30491 [==============================] - 2s 58us/sample - loss: 0.0232\n",
      "Epoch 49/50\n",
      "30491/30491 [==============================] - 2s 58us/sample - loss: 0.0211\n",
      "Epoch 50/50\n",
      "30491/30491 [==============================] - 2s 59us/sample - loss: 0.0220\n"
     ]
    }
   ],
   "source": [
    "# With Standard Scalar \n",
    "linear_reg = LinearRegression()\n",
    "linear_reg.fit(X_train, y_train)\n",
    "\n",
    "knn_reg = KNeighborsRegressor()\n",
    "knn_reg.fit(X_train, y_train)\n",
    "\n",
    "tree_reg = DecisionTreeRegressor()\n",
    "tree_reg.fit(X_train, y_train)\n",
    "\n",
    "bag_reg = BaggingRegressor()\n",
    "bag_reg.fit(X_train, y_train)\n",
    "\n",
    "random_forest_reg = RandomForestRegressor()\n",
    "random_forest_reg.fit(X_train, y_train)\n",
    "\n",
    "adaboost_reg = AdaBoostRegressor()\n",
    "adaboost_reg.fit(X_train, y_train)\n",
    "\n",
    "svr = SVR()\n",
    "svr.fit(X_train, y_train)\n",
    "\n",
    "nn_reg = Sequential()\n",
    "nn_reg.add(Dense(50, input_shape=(12,), activation='relu'))\n",
    "nn_reg.add(Dropout(.25))\n",
    "nn_reg.add(Dense(50, activation='relu'))\n",
    "\n",
    "nn_reg.add(Dense(1, activation=None))\n",
    "\n",
    "nn_reg.compile(loss='mse',optimizer='adam')\n",
    "hist = nn_reg.fit(X_train,y_train, epochs=50)"
   ]
  },
  {
   "cell_type": "code",
   "execution_count": 15,
   "metadata": {},
   "outputs": [],
   "source": [
    "reg_models = [linear_reg,knn_reg, tree_reg,bag_reg,random_forest_reg,adaboost_reg,svr,nn_reg]"
   ]
  },
  {
   "cell_type": "code",
   "execution_count": 26,
   "metadata": {},
   "outputs": [],
   "source": [
    "def get_score(model):\n",
    "    r2_train, r2_test = r2_score(model.predict(X_train),y_train),r2_score(model.predict(X_test), y_test)\n",
    "    rmse_train, rmse_test = mean_squared_error(model.predict(X_train),y_train)**2,mean_squared_error(model.predict(X_test),y_test)**2\n",
    "    return r2_train, r2_test, rmse_train,rmse_test"
   ]
  },
  {
   "cell_type": "code",
   "execution_count": 27,
   "metadata": {},
   "outputs": [],
   "source": []
  },
  {
   "cell_type": "code",
   "execution_count": 89,
   "metadata": {},
   "outputs": [
    {
     "data": {
      "text/html": [
       "<div>\n",
       "<style scoped>\n",
       "    .dataframe tbody tr th:only-of-type {\n",
       "        vertical-align: middle;\n",
       "    }\n",
       "\n",
       "    .dataframe tbody tr th {\n",
       "        vertical-align: top;\n",
       "    }\n",
       "\n",
       "    .dataframe thead th {\n",
       "        text-align: right;\n",
       "    }\n",
       "</style>\n",
       "<table border=\"1\" class=\"dataframe\">\n",
       "  <thead>\n",
       "    <tr style=\"text-align: right;\">\n",
       "      <th></th>\n",
       "      <th>LinearRegression</th>\n",
       "      <th>KNeighborsRegressor</th>\n",
       "      <th>DecisionTreeRegressor</th>\n",
       "      <th>BaggingRegressor</th>\n",
       "      <th>RandomForestRegressor</th>\n",
       "      <th>AdaBoostRegressor</th>\n",
       "      <th>SVR</th>\n",
       "      <th>KerasRegressor</th>\n",
       "    </tr>\n",
       "  </thead>\n",
       "  <tbody>\n",
       "  </tbody>\n",
       "</table>\n",
       "</div>"
      ],
      "text/plain": [
       "Empty DataFrame\n",
       "Columns: [LinearRegression, KNeighborsRegressor, DecisionTreeRegressor, BaggingRegressor, RandomForestRegressor, AdaBoostRegressor, SVR, KerasRegressor]\n",
       "Index: []"
      ]
     },
     "execution_count": 89,
     "metadata": {},
     "output_type": "execute_result"
    }
   ],
   "source": [
    "d = {\n",
    "    'LinearRegression': [],\n",
    "    'KNeighborsRegressor': [],\n",
    "    'DecisionTreeRegressor': [],\n",
    "    'BaggingRegressor':[],\n",
    "    'RandomForestRegressor':[],\n",
    "    'AdaBoostRegressor':[],\n",
    "    'SVR':[],\n",
    "    'KerasRegressor':[]\n",
    "}\n",
    "pd.DataFrame(d)"
   ]
  },
  {
   "cell_type": "code",
   "execution_count": 90,
   "metadata": {},
   "outputs": [
    {
     "data": {
      "text/plain": [
       "8"
      ]
     },
     "execution_count": 90,
     "metadata": {},
     "output_type": "execute_result"
    }
   ],
   "source": [
    "len(d.keys())"
   ]
  },
  {
   "cell_type": "code",
   "execution_count": 91,
   "metadata": {},
   "outputs": [
    {
     "data": {
      "text/html": [
       "<div>\n",
       "<style scoped>\n",
       "    .dataframe tbody tr th:only-of-type {\n",
       "        vertical-align: middle;\n",
       "    }\n",
       "\n",
       "    .dataframe tbody tr th {\n",
       "        vertical-align: top;\n",
       "    }\n",
       "\n",
       "    .dataframe thead th {\n",
       "        text-align: right;\n",
       "    }\n",
       "</style>\n",
       "<table border=\"1\" class=\"dataframe\">\n",
       "  <thead>\n",
       "    <tr style=\"text-align: right;\">\n",
       "      <th></th>\n",
       "      <th>LinearRegression</th>\n",
       "      <th>KNeighborsRegressor</th>\n",
       "      <th>DecisionTreeRegressor</th>\n",
       "      <th>BaggingRegressor</th>\n",
       "      <th>RandomForestRegressor</th>\n",
       "      <th>AdaBoostRegressor</th>\n",
       "      <th>SVR</th>\n",
       "      <th>KerasRegressor</th>\n",
       "    </tr>\n",
       "  </thead>\n",
       "  <tbody>\n",
       "    <tr>\n",
       "      <td>0</td>\n",
       "      <td>0.778436</td>\n",
       "      <td>0.975715</td>\n",
       "      <td>1.000000e+00</td>\n",
       "      <td>0.998399</td>\n",
       "      <td>0.998752</td>\n",
       "      <td>0.071224</td>\n",
       "      <td>0.659420</td>\n",
       "      <td>0.980821</td>\n",
       "    </tr>\n",
       "    <tr>\n",
       "      <td>1</td>\n",
       "      <td>0.786858</td>\n",
       "      <td>0.958741</td>\n",
       "      <td>9.565481e-01</td>\n",
       "      <td>0.992966</td>\n",
       "      <td>0.985983</td>\n",
       "      <td>0.238648</td>\n",
       "      <td>0.572746</td>\n",
       "      <td>0.978653</td>\n",
       "    </tr>\n",
       "    <tr>\n",
       "      <td>2</td>\n",
       "      <td>0.029869</td>\n",
       "      <td>0.000478</td>\n",
       "      <td>5.460960e-16</td>\n",
       "      <td>0.000002</td>\n",
       "      <td>0.000001</td>\n",
       "      <td>0.432877</td>\n",
       "      <td>0.034909</td>\n",
       "      <td>0.000262</td>\n",
       "    </tr>\n",
       "    <tr>\n",
       "      <td>3</td>\n",
       "      <td>0.039104</td>\n",
       "      <td>0.001881</td>\n",
       "      <td>3.477376e-03</td>\n",
       "      <td>0.000071</td>\n",
       "      <td>0.000286</td>\n",
       "      <td>0.433385</td>\n",
       "      <td>0.066025</td>\n",
       "      <td>0.000483</td>\n",
       "    </tr>\n",
       "  </tbody>\n",
       "</table>\n",
       "</div>"
      ],
      "text/plain": [
       "   LinearRegression  KNeighborsRegressor  DecisionTreeRegressor  \\\n",
       "0          0.778436             0.975715           1.000000e+00   \n",
       "1          0.786858             0.958741           9.565481e-01   \n",
       "2          0.029869             0.000478           5.460960e-16   \n",
       "3          0.039104             0.001881           3.477376e-03   \n",
       "\n",
       "   BaggingRegressor  RandomForestRegressor  AdaBoostRegressor       SVR  \\\n",
       "0          0.998399               0.998752           0.071224  0.659420   \n",
       "1          0.992966               0.985983           0.238648  0.572746   \n",
       "2          0.000002               0.000001           0.432877  0.034909   \n",
       "3          0.000071               0.000286           0.433385  0.066025   \n",
       "\n",
       "   KerasRegressor  \n",
       "0        0.980821  \n",
       "1        0.978653  \n",
       "2        0.000262  \n",
       "3        0.000483  "
      ]
     },
     "execution_count": 91,
     "metadata": {},
     "output_type": "execute_result"
    }
   ],
   "source": [
    "for i in range(8):\n",
    "        d[list(d.keys())[i]] = [x for x in get_score(reg_models[i]) ]\n",
    "pd.DataFrame(d)"
   ]
  },
  {
   "cell_type": "code",
   "execution_count": 92,
   "metadata": {},
   "outputs": [],
   "source": [
    "model_df = pd.DataFrame(d).T"
   ]
  },
  {
   "cell_type": "code",
   "execution_count": 96,
   "metadata": {},
   "outputs": [],
   "source": [
    "model_df.rename(columns={0:'R2 train', 1:'R2 test',2:'RMSE train',3:'RMSE test'}, inplace=True)"
   ]
  },
  {
   "cell_type": "code",
   "execution_count": 113,
   "metadata": {},
   "outputs": [],
   "source": [
    "model_df.to_csv('../data/result.csv')"
   ]
  },
  {
   "cell_type": "code",
   "execution_count": 70,
   "metadata": {},
   "outputs": [
    {
     "name": "stdout",
     "output_type": "stream",
     "text": [
      "LinearRegression\n",
      "R2 Train: 0.7784358976173403, R2 Test: 0.7868580432504118\n",
      "RMSE Train: 0.029868782616401406, RMSE Test: 0.03910427946272187\n",
      "KNeighborsRegressor\n",
      "R2 Train: 0.9757150245077121, R2 Test: 0.9587413247011691\n",
      "RMSE Train: 0.0004782200172297769, RMSE Test: 0.0018812470566389233\n",
      "DecisionTreeRegressor\n",
      "R2 Train: 0.9999999754750066, R2 Test: 0.9565480767999027\n",
      "RMSE Train: 5.460960375271421e-16, RMSE Test: 0.0034773757982478628\n",
      "BaggingRegressor\n",
      "R2 Train: 0.9983994449204379, R2 Test: 0.992965525383475\n",
      "RMSE Train: 2.292109651720641e-06, RMSE Test: 7.08670183871247e-05\n",
      "RandomForestRegressor\n",
      "R2 Train: 0.99875177533783, R2 Test: 0.9859833526873625\n",
      "RMSE Train: 1.3720906929609986e-06, RMSE Test: 0.0002864565363673974\n",
      "AdaBoostRegressor\n",
      "R2 Train: 0.0712243761800243, R2 Test: 0.23864764878929912\n",
      "RMSE Train: 0.4328768407848885, RMSE Test: 0.43338508048086427\n",
      "SVR\n",
      "R2 Train: 0.6594204920000126, R2 Test: 0.5727455331992684\n",
      "RMSE Train: 0.034908623727448324, RMSE Test: 0.06602485653241101\n",
      "<tensorflow.python.keras.engine.sequential.Sequential object at 0x000001A3E2FE37C8>\n",
      "R2 Train: 0.9808208339736181, R2 Test: 0.9786534677157298\n",
      "RMSE Train: 0.0002615385814159634, RMSE Test: 0.0004828445629450548\n"
     ]
    }
   ],
   "source": [
    "for i in reg_models:\n",
    "    results = get_score(i)\n",
    "    print(f'{i}'.split('(')[0])\n",
    "    print(f'R2 Train: {results[0]}, R2 Test: {results[1]}')\n",
    "    print(f'RMSE Train: {results[2]}, RMSE Test: {results[3]}')"
   ]
  },
  {
   "cell_type": "code",
   "execution_count": 42,
   "metadata": {},
   "outputs": [],
   "source": [
    "import matplotlib.pyplot as plt"
   ]
  },
  {
   "cell_type": "code",
   "execution_count": 114,
   "metadata": {},
   "outputs": [
    {
     "data": {
      "text/plain": [
       "(13.0, 0.0)"
      ]
     },
     "execution_count": 114,
     "metadata": {},
     "output_type": "execute_result"
    },
    {
     "data": {
      "image/png": "[encoded data removed]",
      "text/plain": [
       "<Figure size 864x864 with 2 Axes>"
      ]
     },
     "metadata": {},
     "output_type": "display_data"
    }
   ],
   "source": [
    "plt.figure(figsize=(12, 12))\n",
    "sns.heatmap(data.drop(columns='category_id').corr(), \n",
    "            cmap='Purples', \n",
    "            annot=True,\n",
    "            vmax=1,\n",
    "            vmin=-1,\n",
    "           square = True)\n",
    "# Thanks SalMac86! \n",
    "# https://github.com/mwaskom/seaborn/issues/1773\n",
    "b, t = plt.ylim() # discover the values for bottom and top\n",
    "b += 0.5 # Add 0.5 to the bottom\n",
    "t -= 0.5 # Subtract 0.5 from the top\n",
    "plt.ylim(b, t) # update the ylim(bottom, top) values"
   ]
  },
  {
   "cell_type": "code",
   "execution_count": 59,
   "metadata": {},
   "outputs": [
    {
     "name": "stderr",
     "output_type": "stream",
     "text": [
      "C:\\Users\\oaher\\Anaconda3\\lib\\site-packages\\seaborn\\algorithms.py:88: RankWarning: Polyfit may be poorly conditioned\n",
      "  boot_dist.append(f(*sample, **func_kwargs))\n",
      "C:\\Users\\oaher\\Anaconda3\\lib\\site-packages\\seaborn\\algorithms.py:88: RankWarning: Polyfit may be poorly conditioned\n",
      "  boot_dist.append(f(*sample, **func_kwargs))\n",
      "C:\\Users\\oaher\\Anaconda3\\lib\\site-packages\\seaborn\\algorithms.py:88: RankWarning: Polyfit may be poorly conditioned\n",
      "  boot_dist.append(f(*sample, **func_kwargs))\n"
     ]
    },
    {
     "data": {
      "text/plain": [
       "(0, 2766759.7309766673)"
      ]
     },
     "execution_count": 59,
     "metadata": {},
     "output_type": "execute_result"
    },
    {
     "data": {
      "image/png": "[encoded data removed]",
      "text/plain": [
       "<Figure size 360x360 with 1 Axes>"
      ]
     },
     "metadata": {},
     "output_type": "display_data"
    }
   ],
   "source": [
    "sns.lmplot(x='trending_lag_time', y='views', data=data.loc[data['video_id'] == '2kyS6SvSYSE',:], col='video_id',ci=False, order=2);\n",
    "plt.ylim(0,)"
   ]
  },
  {
   "cell_type": "code",
   "execution_count": 112,
   "metadata": {},
   "outputs": [
    {
     "data": {
      "text/plain": [
       "(array([2., 0., 0., 0., 0., 0., 0., 0., 0., 2.]),\n",
       " array([4.78220017e-04, 9.80019005e-02, 1.95525581e-01, 2.93049261e-01,\n",
       "        3.90572942e-01, 4.88096622e-01, 5.85620303e-01, 6.83143983e-01,\n",
       "        7.80667664e-01, 8.78191344e-01, 9.75715025e-01]),\n",
       " <a list of 10 Patch objects>)"
      ]
     },
     "execution_count": 112,
     "metadata": {},
     "output_type": "execute_result"
    },
    {
     "data": {
      "image/png": "[encoded data removed]",
      "text/plain": [
       "<Figure size 432x288 with 1 Axes>"
      ]
     },
     "metadata": {},
     "output_type": "display_data"
    }
   ],
   "source": []
  },
  {
   "cell_type": "code",
   "execution_count": null,
   "metadata": {},
   "outputs": [],
   "source": []
  }
 ],
 "metadata": {
  "kernelspec": {
   "display_name": "Python 3",
   "language": "python",
   "name": "python3"
  },
  "language_info": {
   "codemirror_mode": {
    "name": "ipython",
    "version": 3
   },
   "file_extension": ".py",
   "mimetype": "text/x-python",
   "name": "python",
   "nbconvert_exporter": "python",
   "pygments_lexer": "ipython3",
   "version": "3.7.4"
  }
 },
 "nbformat": 4,
 "nbformat_minor": 2
}
